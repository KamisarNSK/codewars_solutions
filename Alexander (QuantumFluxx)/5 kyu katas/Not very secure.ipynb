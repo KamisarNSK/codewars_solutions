{
 "cells": [
  {
   "cell_type": "markdown",
   "id": "200a1e85",
   "metadata": {},
   "source": [
    "## DESCRIPTION:\n",
    "In this example you have to validate if a user input string is alphanumeric. The given string is not nil/null/NULL/None, so you don't have to check that.\n",
    "\n",
    "The string has the following conditions to be alphanumeric:\n",
    "\n",
    "* At least one character (\"\" is not valid)\n",
    "* Allowed characters are uppercase / lowercase latin letters and digits from 0 to 9\n",
    "* No whitespaces / underscore\n",
    "\n",
    "## Solution:\n",
    "```python\n",
    "def alphanumeric(password):\n",
    "    return password.isalnum()\n",
    "```"
   ]
  }
 ],
 "metadata": {
  "kernelspec": {
   "display_name": "Python 3 (ipykernel)",
   "language": "python",
   "name": "python3"
  },
  "language_info": {
   "codemirror_mode": {
    "name": "ipython",
    "version": 3
   },
   "file_extension": ".py",
   "mimetype": "text/x-python",
   "name": "python",
   "nbconvert_exporter": "python",
   "pygments_lexer": "ipython3",
   "version": "3.9.12"
  }
 },
 "nbformat": 4,
 "nbformat_minor": 5
}
