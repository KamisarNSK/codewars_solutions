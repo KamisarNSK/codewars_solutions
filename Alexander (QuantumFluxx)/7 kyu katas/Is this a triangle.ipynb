{
 "cells": [
  {
   "cell_type": "markdown",
   "id": "ab9eb3e1",
   "metadata": {},
   "source": [
    "## DESCRIPTION:\n",
    "Implement a function that accepts 3 integer values a, b, c. The function should return true if a triangle can be built with the sides of given length and false in any other case.\n",
    "\n",
    "(In this case, all triangles must have surface greater than 0 to be accepted).\n",
    "\n",
    "## Solution:\n",
    "```python\n",
    "def is_triangle(a, b, c):\n",
    "    return a + b > c and b + c > a and a + c > b\n",
    "```"
   ]
  }
 ],
 "metadata": {
  "kernelspec": {
   "display_name": "Python 3 (ipykernel)",
   "language": "python",
   "name": "python3"
  },
  "language_info": {
   "codemirror_mode": {
    "name": "ipython",
    "version": 3
   },
   "file_extension": ".py",
   "mimetype": "text/x-python",
   "name": "python",
   "nbconvert_exporter": "python",
   "pygments_lexer": "ipython3",
   "version": "3.9.12"
  }
 },
 "nbformat": 4,
 "nbformat_minor": 5
}
