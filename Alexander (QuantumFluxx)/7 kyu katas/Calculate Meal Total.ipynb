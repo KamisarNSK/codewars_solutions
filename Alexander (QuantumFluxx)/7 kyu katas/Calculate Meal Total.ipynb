{
 "cells": [
  {
   "cell_type": "markdown",
   "id": "b9f69984",
   "metadata": {},
   "source": [
    "## DESCRIPTION:\n",
    "Create a function that returns the total of a meal including tip and tax. You should not tip on the tax.\n",
    "\n",
    "You will be given the subtotal, the tax as a percentage and the tip as a percentage. Please round your result to two decimal places.\n",
    "\n",
    "## Solution:\n",
    "```python\n",
    "def calculate_total(subtotal, tax, tip):\n",
    "    return round(sum([subtotal, subtotal*tax/100, subtotal*tip/100]), 2)\n",
    "```"
   ]
  }
 ],
 "metadata": {
  "kernelspec": {
   "display_name": "Python 3 (ipykernel)",
   "language": "python",
   "name": "python3"
  },
  "language_info": {
   "codemirror_mode": {
    "name": "ipython",
    "version": 3
   },
   "file_extension": ".py",
   "mimetype": "text/x-python",
   "name": "python",
   "nbconvert_exporter": "python",
   "pygments_lexer": "ipython3",
   "version": "3.9.12"
  }
 },
 "nbformat": 4,
 "nbformat_minor": 5
}
