{
 "cells": [
  {
   "cell_type": "markdown",
   "id": "4982a7f6",
   "metadata": {},
   "source": [
    "## DESCRIPTION:\n",
    "Are the numbers in order?\n",
    "In this Kata, your function receives an array of integers as input. Your task is to determine whether the numbers are in ascending order. An array is said to be in ascending order if there are no two adjacent integers where the left integer exceeds the right integer in value.\n",
    "\n",
    "For the purposes of this Kata, you may assume that all inputs are valid, i.e. non-empty arrays containing only integers.\n",
    "\n",
    "Note that an array of 1 integer is automatically considered to be sorted in ascending order since all (zero) adjacent pairs of integers satisfy the condition that the left integer does not exceed the right integer in value. An empty list is considered a degenerate case and therefore will not be tested in this Kata - feel free to raise an Issue if you see such a list being tested.\n",
    "```\n",
    "For example:\n",
    "in_asc_order([1,2,4,7,19]) # returns True\n",
    "in_asc_order([1,2,3,4,5]) # returns True\n",
    "in_asc_order([1,6,10,18,2,4,20]) # returns False\n",
    "in_asc_order([9,8,7,6,5,4,3,2,1]) # returns False because the numbers are in DESCENDING order\n",
    "```\n",
    "N.B. If your solution passes all fixed tests but fails at the random tests, make sure you aren't mutating the input array.\n",
    "\n",
    "## Solution:\n",
    "```python\n",
    "def in_asc_order(arr):\n",
    "    return arr == sorted(arr)\n",
    "```"
   ]
  }
 ],
 "metadata": {
  "kernelspec": {
   "display_name": "Python 3 (ipykernel)",
   "language": "python",
   "name": "python3"
  },
  "language_info": {
   "codemirror_mode": {
    "name": "ipython",
    "version": 3
   },
   "file_extension": ".py",
   "mimetype": "text/x-python",
   "name": "python",
   "nbconvert_exporter": "python",
   "pygments_lexer": "ipython3",
   "version": "3.9.12"
  }
 },
 "nbformat": 4,
 "nbformat_minor": 5
}
