{
 "cells": [
  {
   "cell_type": "markdown",
   "id": "a39ae123",
   "metadata": {},
   "source": [
    "## DESCRIPTION:\n",
    "Write function which will create a string from a list of strings, separated by space.\n",
    "```\n",
    "Example:\n",
    "\n",
    "[\"hello\", \"world\"] -> \"hello world\"\n",
    "```\n",
    "\n",
    "## Solution:\n",
    "```python\n",
    "def words_to_sentence(words):\n",
    "    return \" \".join(words)\n",
    "```"
   ]
  }
 ],
 "metadata": {
  "kernelspec": {
   "display_name": "Python 3 (ipykernel)",
   "language": "python",
   "name": "python3"
  },
  "language_info": {
   "codemirror_mode": {
    "name": "ipython",
    "version": 3
   },
   "file_extension": ".py",
   "mimetype": "text/x-python",
   "name": "python",
   "nbconvert_exporter": "python",
   "pygments_lexer": "ipython3",
   "version": "3.9.12"
  }
 },
 "nbformat": 4,
 "nbformat_minor": 5
}
