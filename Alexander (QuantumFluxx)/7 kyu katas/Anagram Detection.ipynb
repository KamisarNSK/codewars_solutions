{
 "cells": [
  {
   "cell_type": "markdown",
   "id": "7b8effaa",
   "metadata": {},
   "source": [
    "## DESCRIPTION:\n",
    "An anagram is the result of rearranging the letters of a word to produce a new word (see wikipedia).\n",
    "\n",
    "Note: anagrams are case insensitive\n",
    "\n",
    "Complete the function to return true if the two arguments given are anagrams of each other; return false otherwise.\n",
    "```\n",
    "Examples\n",
    "\"foefet\" is an anagram of \"toffee\"\n",
    "\n",
    "\"Buckethead\" is an anagram of \"DeathCubeK\"\n",
    "```\n",
    "\n",
    "## Solution:\n",
    "```python\n",
    "def is_anagram(test, original):\n",
    "    return sorted(original.lower()) == sorted(test.lower())\n",
    "```"
   ]
  }
 ],
 "metadata": {
  "kernelspec": {
   "display_name": "Python 3 (ipykernel)",
   "language": "python",
   "name": "python3"
  },
  "language_info": {
   "codemirror_mode": {
    "name": "ipython",
    "version": 3
   },
   "file_extension": ".py",
   "mimetype": "text/x-python",
   "name": "python",
   "nbconvert_exporter": "python",
   "pygments_lexer": "ipython3",
   "version": "3.9.12"
  }
 },
 "nbformat": 4,
 "nbformat_minor": 5
}
