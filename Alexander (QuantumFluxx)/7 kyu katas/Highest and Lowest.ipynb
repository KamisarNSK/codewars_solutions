{
 "cells": [
  {
   "cell_type": "markdown",
   "id": "f035c34e",
   "metadata": {},
   "source": [
    "## DESCRIPTION:\n",
    "In this little assignment you are given a string of space separated numbers, and have to return the highest and lowest number.\n",
    "```\n",
    "Examples\n",
    "high_and_low(\"1 2 3 4 5\")  # return \"5 1\"\n",
    "high_and_low(\"1 2 -3 4 5\") # return \"5 -3\"\n",
    "high_and_low(\"1 9 3 4 -5\") # return \"9 -5\"\n",
    "```\n",
    "Notes\n",
    "* All numbers are valid Int32, no need to validate them.\n",
    "* There will always be at least one number in the input string.\n",
    "* Output string must be two numbers separated by a single space, and highest number is first.\n",
    "\n",
    "## Solution:\n",
    "```python\n",
    "def high_and_low(numbers):\n",
    "    nums = [int(i) for i in numbers.split()]\n",
    "    return \" \".join([str(max(nums)), str(min(nums))])\n",
    "```"
   ]
  }
 ],
 "metadata": {
  "kernelspec": {
   "display_name": "Python 3 (ipykernel)",
   "language": "python",
   "name": "python3"
  },
  "language_info": {
   "codemirror_mode": {
    "name": "ipython",
    "version": 3
   },
   "file_extension": ".py",
   "mimetype": "text/x-python",
   "name": "python",
   "nbconvert_exporter": "python",
   "pygments_lexer": "ipython3",
   "version": "3.9.12"
  }
 },
 "nbformat": 4,
 "nbformat_minor": 5
}
