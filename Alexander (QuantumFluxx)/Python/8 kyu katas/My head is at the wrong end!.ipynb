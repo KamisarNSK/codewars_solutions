{
 "cells": [
  {
   "cell_type": "markdown",
   "id": "eab2eb22",
   "metadata": {},
   "source": [
    "## DESCRIPTION:\n",
    "You're at the zoo... all the meerkats look weird. Something has gone terribly wrong - someone has gone and switched their heads and tails around!\n",
    "\n",
    "Save the animals by switching them back. You will be given an array which will have three values (tail, body, head). It is your job to re-arrange the array so that the animal is the right way round (head, body, tail).\n",
    "\n",
    "Same goes for all the other arrays/lists that you will get in the tests: you have to change the element positions with the same exact logics\n",
    "\n",
    "Simples!\n",
    "\n",
    "## Solution:\n",
    "```python\n",
    "def fix_the_meerkat(arr):\n",
    "    return arr[::-1]\n",
    "```"
   ]
  }
 ],
 "metadata": {
  "kernelspec": {
   "display_name": "Python 3 (ipykernel)",
   "language": "python",
   "name": "python3"
  },
  "language_info": {
   "codemirror_mode": {
    "name": "ipython",
    "version": 3
   },
   "file_extension": ".py",
   "mimetype": "text/x-python",
   "name": "python",
   "nbconvert_exporter": "python",
   "pygments_lexer": "ipython3",
   "version": "3.9.12"
  }
 },
 "nbformat": 4,
 "nbformat_minor": 5
}
