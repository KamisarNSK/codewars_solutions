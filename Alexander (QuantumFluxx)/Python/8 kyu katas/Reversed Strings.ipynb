{
 "cells": [
  {
   "cell_type": "markdown",
   "id": "5e92d2cb",
   "metadata": {},
   "source": [
    "## DESCRIPTION:\n",
    "Complete the solution so that it reverses the string passed into it.\n",
    "```\n",
    "'world'  =>  'dlrow'\n",
    "'word'   =>  'drow'\n",
    "```\n",
    "\n",
    "## Solution:\n",
    "```python\n",
    "def solution(string):\n",
    "    return string[::-1]\n",
    "```"
   ]
  }
 ],
 "metadata": {
  "kernelspec": {
   "display_name": "Python 3 (ipykernel)",
   "language": "python",
   "name": "python3"
  },
  "language_info": {
   "codemirror_mode": {
    "name": "ipython",
    "version": 3
   },
   "file_extension": ".py",
   "mimetype": "text/x-python",
   "name": "python",
   "nbconvert_exporter": "python",
   "pygments_lexer": "ipython3",
   "version": "3.9.12"
  }
 },
 "nbformat": 4,
 "nbformat_minor": 5
}
