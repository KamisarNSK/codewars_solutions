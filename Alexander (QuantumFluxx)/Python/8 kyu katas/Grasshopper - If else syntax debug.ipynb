{
 "cells": [
  {
   "cell_type": "markdown",
   "id": "a90f923d",
   "metadata": {},
   "source": [
    "## DESCRIPTION:\n",
    "If/else syntax debug\n",
    "While making a game, your partner, Greg, decided to create a function to check if the user is still alive called `checkAlive/CheckAlive/check_alive`. Unfortunately, Greg made some errors while creating the function.\n",
    "\n",
    "`checkAlive/CheckAlive/check_alive` should return true if the player's health is greater than 0 or false if it is 0 or below.\n",
    "\n",
    "The function receives one parameter health which will always be a whole number between -10 and 10.\n",
    "\n",
    "## Solution:\n",
    "```python\n",
    "def check_alive(health):\n",
    "    if health <= 0:\n",
    "        return False\n",
    "    else:\n",
    "        return True\n",
    "```"
   ]
  }
 ],
 "metadata": {
  "kernelspec": {
   "display_name": "Python 3 (ipykernel)",
   "language": "python",
   "name": "python3"
  },
  "language_info": {
   "codemirror_mode": {
    "name": "ipython",
    "version": 3
   },
   "file_extension": ".py",
   "mimetype": "text/x-python",
   "name": "python",
   "nbconvert_exporter": "python",
   "pygments_lexer": "ipython3",
   "version": "3.9.12"
  }
 },
 "nbformat": 4,
 "nbformat_minor": 5
}
