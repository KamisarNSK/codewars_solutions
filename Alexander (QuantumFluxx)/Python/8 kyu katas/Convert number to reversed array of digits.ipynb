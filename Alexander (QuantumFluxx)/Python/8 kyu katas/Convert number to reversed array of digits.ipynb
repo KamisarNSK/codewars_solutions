{
 "cells": [
  {
   "cell_type": "markdown",
   "id": "55c76d66",
   "metadata": {},
   "source": [
    "## DESCRIPTION:\n",
    "Convert number to reversed array of digits\n",
    "Given a random non-negative number, you have to return the digits of this number within an array in reverse order.\n",
    "```\n",
    "Example(Input => Output):\n",
    "348597 => [7,9,5,8,4,3]\n",
    "0 => [0]\n",
    "```\n",
    "\n",
    "## Solution:\n",
    "```python\n",
    "def digitize(n):\n",
    "    return [int(i) for i in reversed(str(n))]\n",
    "```"
   ]
  }
 ],
 "metadata": {
  "kernelspec": {
   "display_name": "Python 3 (ipykernel)",
   "language": "python",
   "name": "python3"
  },
  "language_info": {
   "codemirror_mode": {
    "name": "ipython",
    "version": 3
   },
   "file_extension": ".py",
   "mimetype": "text/x-python",
   "name": "python",
   "nbconvert_exporter": "python",
   "pygments_lexer": "ipython3",
   "version": "3.9.12"
  }
 },
 "nbformat": 4,
 "nbformat_minor": 5
}
