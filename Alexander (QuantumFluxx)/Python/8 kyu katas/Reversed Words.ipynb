{
 "cells": [
  {
   "cell_type": "markdown",
   "id": "56c8de6d",
   "metadata": {},
   "source": [
    "## DESCRIPTION:\n",
    "Complete the solution so that it reverses all of the words within the string passed in.\n",
    "```\n",
    "Example(Input --> Output):\n",
    "\"The greatest victory is that which requires no battle\" --> \"battle no requires which that is victory greatest The\"\n",
    "```\n",
    "\n",
    "## Solution:\n",
    "```python\n",
    "def reverse_words(s):\n",
    "    return \" \".join(s.split()[::-1])\n",
    "```"
   ]
  }
 ],
 "metadata": {
  "kernelspec": {
   "display_name": "Python 3 (ipykernel)",
   "language": "python",
   "name": "python3"
  },
  "language_info": {
   "codemirror_mode": {
    "name": "ipython",
    "version": 3
   },
   "file_extension": ".py",
   "mimetype": "text/x-python",
   "name": "python",
   "nbconvert_exporter": "python",
   "pygments_lexer": "ipython3",
   "version": "3.9.12"
  }
 },
 "nbformat": 4,
 "nbformat_minor": 5
}
