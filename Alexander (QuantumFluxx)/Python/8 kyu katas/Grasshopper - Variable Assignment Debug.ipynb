{
 "cells": [
  {
   "cell_type": "markdown",
   "id": "dfdf462c",
   "metadata": {},
   "source": [
    "## DESCRIPTION:\n",
    "Variable assignment\n",
    "Fix the variables assigments so that this code stores the string 'devLab' in the variable name.\n",
    "\n",
    "## Solution:\n",
    "```python\n",
    "a = \"dev\"\n",
    "b = \"Lab\"\n",
    "name = a + b\n",
    "```"
   ]
  }
 ],
 "metadata": {
  "kernelspec": {
   "display_name": "Python 3 (ipykernel)",
   "language": "python",
   "name": "python3"
  },
  "language_info": {
   "codemirror_mode": {
    "name": "ipython",
    "version": 3
   },
   "file_extension": ".py",
   "mimetype": "text/x-python",
   "name": "python",
   "nbconvert_exporter": "python",
   "pygments_lexer": "ipython3",
   "version": "3.9.12"
  }
 },
 "nbformat": 4,
 "nbformat_minor": 5
}
