{
 "cells": [
  {
   "cell_type": "markdown",
   "id": "252797ae",
   "metadata": {},
   "source": [
    "## DESCRIPTION:\n",
    "Implement a function named generateRange(min, max, step), which takes three arguments and generates a range of integers from min to max, with the step. The first integer is the minimum value, the second is the maximum of the range and the third is the step. (min < max)\n",
    "\n",
    "Task\n",
    "Implement a function named\n",
    "```\n",
    "generate_range(2, 10, 2) # should return list of [2,4,6,8,10]\n",
    "generate_range(1, 10, 3) # should return list of [1,4,7,10]\n",
    "```\n",
    "Note:\n",
    "```\n",
    "min < max\n",
    "step > 0\n",
    "the range does not HAVE to include max (depending on the step)\n",
    "```\n",
    "\n",
    "## Solution:\n",
    "```python\n",
    "def generate_range(min, max, step):\n",
    "    return [i for i in range(min, max+1, step)]\n",
    "```"
   ]
  }
 ],
 "metadata": {
  "kernelspec": {
   "display_name": "Python 3 (ipykernel)",
   "language": "python",
   "name": "python3"
  },
  "language_info": {
   "codemirror_mode": {
    "name": "ipython",
    "version": 3
   },
   "file_extension": ".py",
   "mimetype": "text/x-python",
   "name": "python",
   "nbconvert_exporter": "python",
   "pygments_lexer": "ipython3",
   "version": "3.9.12"
  }
 },
 "nbformat": 4,
 "nbformat_minor": 5
}
