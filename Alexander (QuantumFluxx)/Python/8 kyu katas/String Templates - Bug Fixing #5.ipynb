{
 "cells": [
  {
   "cell_type": "markdown",
   "id": "074ca1dc",
   "metadata": {},
   "source": [
    "## DESCRIPTION:\n",
    "Oh no! Timmy hasn't followed instructions very carefully and forgot how to use the new String Template feature, Help Timmy with his string template so it works as he expects!\n",
    "\n",
    "## Solution:\n",
    "```python\n",
    "def build_string(*args):\n",
    "    return \"I like {0}!\".format(\", \".join(args))\n",
    "```"
   ]
  }
 ],
 "metadata": {
  "kernelspec": {
   "display_name": "Python 3 (ipykernel)",
   "language": "python",
   "name": "python3"
  },
  "language_info": {
   "codemirror_mode": {
    "name": "ipython",
    "version": 3
   },
   "file_extension": ".py",
   "mimetype": "text/x-python",
   "name": "python",
   "nbconvert_exporter": "python",
   "pygments_lexer": "ipython3",
   "version": "3.9.12"
  }
 },
 "nbformat": 4,
 "nbformat_minor": 5
}
