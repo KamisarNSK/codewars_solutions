{
 "cells": [
  {
   "cell_type": "markdown",
   "id": "4ed49d1f",
   "metadata": {},
   "source": [
    "## Description:\n",
    "Make a simple function called greet that returns the most-famous \"hello world!\".\n",
    "\n",
    "Style Points\n",
    "Sure, this is about as easy as it gets. But how clever can you be to create the most creative hello world you can think of? What is a \"hello world\" solution you would want to show your friends?\n",
    "\n",
    "## Solution:\n",
    "```python\n",
    "def greet():\n",
    "    return \"hello world!\"\n",
    "```"
   ]
  }
 ],
 "metadata": {
  "kernelspec": {
   "display_name": "Python 3 (ipykernel)",
   "language": "python",
   "name": "python3"
  },
  "language_info": {
   "codemirror_mode": {
    "name": "ipython",
    "version": 3
   },
   "file_extension": ".py",
   "mimetype": "text/x-python",
   "name": "python",
   "nbconvert_exporter": "python",
   "pygments_lexer": "ipython3",
   "version": "3.9.12"
  }
 },
 "nbformat": 4,
 "nbformat_minor": 5
}
