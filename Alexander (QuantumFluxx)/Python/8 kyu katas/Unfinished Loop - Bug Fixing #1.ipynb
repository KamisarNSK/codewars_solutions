{
 "cells": [
  {
   "cell_type": "markdown",
   "id": "3862ca52",
   "metadata": {},
   "source": [
    "## DESCRIPTION:\n",
    "Unfinished Loop - Bug Fixing #1\n",
    "Oh no, Timmy's created an infinite loop! Help Timmy find and fix the bug in his unfinished for loop!\n",
    "\n",
    "## Solution:\n",
    "```python\n",
    "def create_array(n):\n",
    "    res=[]\n",
    "    i=1\n",
    "    while i<=n:\n",
    "        res+=[i]\n",
    "        i+= 1\n",
    "    return res\n",
    "```"
   ]
  }
 ],
 "metadata": {
  "kernelspec": {
   "display_name": "Python 3 (ipykernel)",
   "language": "python",
   "name": "python3"
  },
  "language_info": {
   "codemirror_mode": {
    "name": "ipython",
    "version": 3
   },
   "file_extension": ".py",
   "mimetype": "text/x-python",
   "name": "python",
   "nbconvert_exporter": "python",
   "pygments_lexer": "ipython3",
   "version": "3.9.12"
  }
 },
 "nbformat": 4,
 "nbformat_minor": 5
}
