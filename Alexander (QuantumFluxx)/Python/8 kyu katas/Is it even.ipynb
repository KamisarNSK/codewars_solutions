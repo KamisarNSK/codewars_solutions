{
 "cells": [
  {
   "cell_type": "markdown",
   "id": "5ae25c08",
   "metadata": {},
   "source": [
    "## DESCRIPTION:\n",
    "In this Kata we are passing a number (n) into a function.\n",
    "\n",
    "Your code will determine if the number passed is even (or not).\n",
    "\n",
    "The function needs to return either a true or false.\n",
    "\n",
    "Numbers may be positive or negative, integers or floats.\n",
    "\n",
    "Floats with decimal part non equal to zero are considered UNeven for this kata.\n",
    "\n",
    "## Solution:\n",
    "```python\n",
    "def is_even(n): \n",
    "    return True if n%2==0 or n==0 else False\n",
    "```"
   ]
  }
 ],
 "metadata": {
  "kernelspec": {
   "display_name": "Python 3 (ipykernel)",
   "language": "python",
   "name": "python3"
  },
  "language_info": {
   "codemirror_mode": {
    "name": "ipython",
    "version": 3
   },
   "file_extension": ".py",
   "mimetype": "text/x-python",
   "name": "python",
   "nbconvert_exporter": "python",
   "pygments_lexer": "ipython3",
   "version": "3.9.12"
  }
 },
 "nbformat": 4,
 "nbformat_minor": 5
}
