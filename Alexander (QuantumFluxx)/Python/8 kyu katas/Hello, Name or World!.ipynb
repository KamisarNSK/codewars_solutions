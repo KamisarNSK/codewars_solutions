{
 "cells": [
  {
   "cell_type": "markdown",
   "id": "51d5c7d9",
   "metadata": {},
   "source": [
    "## DESCRIPTION:\n",
    "Define a method hello that returns \"Hello, Name!\" to a given name, or says Hello, World! if name is not given (or passed as an empty String).\n",
    "\n",
    "Assuming that name is a String and it checks for user typos to return a name with a first capital letter (Xxxx).\n",
    "\n",
    "Examples:\n",
    "```\n",
    "* With `name` = \"john\"  => return \"Hello, John!\"\n",
    "* With `name` = \"aliCE\" => return \"Hello, Alice!\"\n",
    "* With `name` not given \n",
    "  or `name` = \"\"        => return \"Hello, World!\"\n",
    "```\n",
    "\n",
    "## Solution:\n",
    "```python\n",
    "def hello(name=\"\"):\n",
    "    return f\"Hello, {name.title()}!\" if name or len(name)> 1 else \"Hello, World!\"\n",
    "```"
   ]
  }
 ],
 "metadata": {
  "kernelspec": {
   "display_name": "Python 3 (ipykernel)",
   "language": "python",
   "name": "python3"
  },
  "language_info": {
   "codemirror_mode": {
    "name": "ipython",
    "version": 3
   },
   "file_extension": ".py",
   "mimetype": "text/x-python",
   "name": "python",
   "nbconvert_exporter": "python",
   "pygments_lexer": "ipython3",
   "version": "3.9.12"
  }
 },
 "nbformat": 4,
 "nbformat_minor": 5
}
