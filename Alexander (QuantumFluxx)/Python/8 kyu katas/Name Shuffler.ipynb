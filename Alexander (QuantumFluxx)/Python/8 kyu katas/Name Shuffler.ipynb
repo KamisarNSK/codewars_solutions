{
 "cells": [
  {
   "cell_type": "markdown",
   "id": "714432d7",
   "metadata": {},
   "source": [
    "## DESCRIPTION:\n",
    "Write a function that returns a string in which firstname is swapped with last name.\n",
    "\n",
    "Example(Input --> Output)\n",
    "\n",
    "\"john McClane\" --> \"McClane john\"\n",
    "\n",
    "## Solution:\n",
    "```python\n",
    "def name_shuffler(str_):\n",
    "    return ' '.join(str_.split(' ')[::-1])\n",
    "```"
   ]
  }
 ],
 "metadata": {
  "kernelspec": {
   "display_name": "Python 3 (ipykernel)",
   "language": "python",
   "name": "python3"
  },
  "language_info": {
   "codemirror_mode": {
    "name": "ipython",
    "version": 3
   },
   "file_extension": ".py",
   "mimetype": "text/x-python",
   "name": "python",
   "nbconvert_exporter": "python",
   "pygments_lexer": "ipython3",
   "version": "3.9.12"
  }
 },
 "nbformat": 4,
 "nbformat_minor": 5
}
