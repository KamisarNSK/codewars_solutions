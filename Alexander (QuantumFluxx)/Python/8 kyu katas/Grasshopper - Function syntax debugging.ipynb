{
 "cells": [
  {
   "cell_type": "markdown",
   "id": "21582ae5",
   "metadata": {},
   "source": [
    "## DESCRIPTION:\n",
    "Grasshopper - Function syntax debugging\n",
    "A student was working on a function and made some syntax mistakes while coding. Help them find their mistakes and fix them.\n",
    "\n",
    "## Solution:\n",
    "```python\n",
    "def main(verb, noun):\n",
    "    return verb + noun\n",
    "```"
   ]
  }
 ],
 "metadata": {
  "kernelspec": {
   "display_name": "Python 3 (ipykernel)",
   "language": "python",
   "name": "python3"
  },
  "language_info": {
   "codemirror_mode": {
    "name": "ipython",
    "version": 3
   },
   "file_extension": ".py",
   "mimetype": "text/x-python",
   "name": "python",
   "nbconvert_exporter": "python",
   "pygments_lexer": "ipython3",
   "version": "3.9.12"
  }
 },
 "nbformat": 4,
 "nbformat_minor": 5
}
