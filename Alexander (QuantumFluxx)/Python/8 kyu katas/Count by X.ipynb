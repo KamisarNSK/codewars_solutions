{
 "cells": [
  {
   "cell_type": "markdown",
   "id": "97d0b78f",
   "metadata": {},
   "source": [
    "## DESCRIPTION:\n",
    "Create a function with two arguments that will return an array of the first (n) multiples of (x).\n",
    "\n",
    "Assume both the given number and the number of times to count will be positive numbers greater than 0.\n",
    "\n",
    "Return the results as an array (or list in Python, Haskell or Elixir).\n",
    "\n",
    "Examples:\n",
    "```\n",
    "count_by(1,10) #should return [1,2,3,4,5,6,7,8,9,10]\n",
    "count_by(2,5) #should return [2,4,6,8,10]\n",
    "```\n",
    "\n",
    "## Solution:\n",
    "```python\n",
    "def count_by(x, n):\n",
    "    return [i * x for i in range(1, n + 1)]\n",
    "```"
   ]
  }
 ],
 "metadata": {
  "kernelspec": {
   "display_name": "Python 3 (ipykernel)",
   "language": "python",
   "name": "python3"
  },
  "language_info": {
   "codemirror_mode": {
    "name": "ipython",
    "version": 3
   },
   "file_extension": ".py",
   "mimetype": "text/x-python",
   "name": "python",
   "nbconvert_exporter": "python",
   "pygments_lexer": "ipython3",
   "version": "3.9.12"
  }
 },
 "nbformat": 4,
 "nbformat_minor": 5
}
