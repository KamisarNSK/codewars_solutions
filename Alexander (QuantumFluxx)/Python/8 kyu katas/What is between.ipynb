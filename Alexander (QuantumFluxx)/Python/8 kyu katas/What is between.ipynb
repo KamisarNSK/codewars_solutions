{
 "cells": [
  {
   "cell_type": "markdown",
   "id": "ac3375f6",
   "metadata": {},
   "source": [
    "## DESCRIPTION:\n",
    "Complete the function that takes two integers (a, b, where a < b) and return an array of all integers between the input parameters, including them.\n",
    "\n",
    "For example:\n",
    "```\n",
    "a = 1\n",
    "b = 4\n",
    "--> [1, 2, 3, 4]\n",
    "```\n",
    "\n",
    "## Solution:\n",
    "```python\n",
    "def between(a,b):\n",
    "    return [result for result in range(a,b+1)]\n",
    "```"
   ]
  }
 ],
 "metadata": {
  "kernelspec": {
   "display_name": "Python 3 (ipykernel)",
   "language": "python",
   "name": "python3"
  },
  "language_info": {
   "codemirror_mode": {
    "name": "ipython",
    "version": 3
   },
   "file_extension": ".py",
   "mimetype": "text/x-python",
   "name": "python",
   "nbconvert_exporter": "python",
   "pygments_lexer": "ipython3",
   "version": "3.9.12"
  }
 },
 "nbformat": 4,
 "nbformat_minor": 5
}
