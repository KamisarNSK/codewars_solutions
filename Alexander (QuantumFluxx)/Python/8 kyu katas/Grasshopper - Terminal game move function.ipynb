{
 "cells": [
  {
   "cell_type": "markdown",
   "id": "dfc76f70",
   "metadata": {},
   "source": [
    "## DESCRIPTION:\n",
    "Terminal game move function\n",
    "In this game, the hero moves from left to right. The player rolls the dice and moves the number of spaces indicated by the dice two times.\n",
    "\n",
    "Create a function for the terminal game that takes the current position of the hero and the roll (1-6) and return the new position.\n",
    "```\n",
    "Example:\n",
    "move(3, 6) should equal 15\n",
    "```\n",
    "\n",
    "## Solution:\n",
    "```python\n",
    "def move(position, roll):\n",
    "    return position + 2*roll\n",
    "```"
   ]
  }
 ],
 "metadata": {
  "kernelspec": {
   "display_name": "Python 3 (ipykernel)",
   "language": "python",
   "name": "python3"
  },
  "language_info": {
   "codemirror_mode": {
    "name": "ipython",
    "version": 3
   },
   "file_extension": ".py",
   "mimetype": "text/x-python",
   "name": "python",
   "nbconvert_exporter": "python",
   "pygments_lexer": "ipython3",
   "version": "3.9.12"
  }
 },
 "nbformat": 4,
 "nbformat_minor": 5
}
