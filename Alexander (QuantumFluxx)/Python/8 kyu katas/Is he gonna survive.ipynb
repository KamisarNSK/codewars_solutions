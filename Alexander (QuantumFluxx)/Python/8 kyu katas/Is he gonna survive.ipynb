{
 "cells": [
  {
   "cell_type": "markdown",
   "id": "5cf645f8",
   "metadata": {},
   "source": [
    "## DESCRIPTION:\n",
    "A hero is on his way to the castle to complete his mission. However, he's been told that the castle is surrounded with a couple of powerful dragons! each dragon takes 2 bullets to be defeated, our hero has no idea how many bullets he should carry.. Assuming he's gonna grab a specific given number of bullets and move forward to fight another specific given number of dragons, will he survive?\n",
    "\n",
    "Return True if yes, False otherwise :)\n",
    "\n",
    "## Solution:\n",
    "```python\n",
    "def hero(bullets, dragons):\n",
    "    return False if bullets/2 < dragons else True\n",
    "```"
   ]
  }
 ],
 "metadata": {
  "kernelspec": {
   "display_name": "Python 3 (ipykernel)",
   "language": "python",
   "name": "python3"
  },
  "language_info": {
   "codemirror_mode": {
    "name": "ipython",
    "version": 3
   },
   "file_extension": ".py",
   "mimetype": "text/x-python",
   "name": "python",
   "nbconvert_exporter": "python",
   "pygments_lexer": "ipython3",
   "version": "3.9.12"
  }
 },
 "nbformat": 4,
 "nbformat_minor": 5
}
