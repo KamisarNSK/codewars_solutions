{
 "cells": [
  {
   "cell_type": "markdown",
   "id": "e60da54a",
   "metadata": {},
   "source": [
    "## The Story:\n",
    "Bob is working as a bus driver. However, he has become extremely popular amongst the city's residents. With so many passengers wanting to get aboard his bus, he sometimes has to face the problem of not enough space left on the bus! He wants you to write a simple program telling him if he will be able to fit all the passengers.\n",
    "\n",
    "### Task Overview:\n",
    "You have to write a function that accepts three parameters:\n",
    "\n",
    "cap is the amount of people the bus can hold excluding the driver.\n",
    "on is the number of people on the bus excluding the driver.\n",
    "wait is the number of people waiting to get on to the bus excluding the driver.\n",
    "If there is enough space, return 0, and if there isn't, return the number of passengers he can't take.\n",
    "```\n",
    "Usage Examples:\n",
    "cap = 10, on = 5, wait = 5 --> 0 # He can fit all 5 passengers\n",
    "cap = 100, on = 60, wait = 50 --> 10 # He can't fit 10 of the 50 waiting\n",
    "```\n",
    "\n",
    "## Solution:\n",
    "```python\n",
    "def enough(cap, on, wait):\n",
    "    return max(0, wait - (cap - on))\n",
    "```"
   ]
  }
 ],
 "metadata": {
  "kernelspec": {
   "display_name": "Python 3 (ipykernel)",
   "language": "python",
   "name": "python3"
  },
  "language_info": {
   "codemirror_mode": {
    "name": "ipython",
    "version": 3
   },
   "file_extension": ".py",
   "mimetype": "text/x-python",
   "name": "python",
   "nbconvert_exporter": "python",
   "pygments_lexer": "ipython3",
   "version": "3.9.12"
  }
 },
 "nbformat": 4,
 "nbformat_minor": 5
}
