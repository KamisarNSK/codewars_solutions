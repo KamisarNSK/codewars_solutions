{
 "cells": [
  {
   "cell_type": "markdown",
   "id": "42f9e155",
   "metadata": {},
   "source": [
    "## DESCRIPTION:\n",
    "Palindrome strings\n",
    "A palindrome is a word, phrase, number, or other sequence of characters which reads the same backward or forward. This includes capital letters, punctuation, and word dividers.\n",
    "\n",
    "Implement a function that checks if something is a palindrome. If the input is a number, convert it to string first.\n",
    "```\n",
    "Examples(Input ==> Output)\n",
    "\"anna\"   ==> true\n",
    "\"walter\" ==> false\n",
    "12321    ==> true\n",
    "123456   ==> false\n",
    "```\n",
    "## Solution:\n",
    "```python\n",
    "def is_palindrome(string):\n",
    "    return True if str(string) == str(string)[::-1] else False\n",
    "```"
   ]
  }
 ],
 "metadata": {
  "kernelspec": {
   "display_name": "Python 3 (ipykernel)",
   "language": "python",
   "name": "python3"
  },
  "language_info": {
   "codemirror_mode": {
    "name": "ipython",
    "version": 3
   },
   "file_extension": ".py",
   "mimetype": "text/x-python",
   "name": "python",
   "nbconvert_exporter": "python",
   "pygments_lexer": "ipython3",
   "version": "3.9.12"
  }
 },
 "nbformat": 4,
 "nbformat_minor": 5
}
