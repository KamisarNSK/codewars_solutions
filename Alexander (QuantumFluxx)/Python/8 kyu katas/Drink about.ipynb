{
 "cells": [
  {
   "cell_type": "markdown",
   "id": "5a0722c4",
   "metadata": {},
   "source": [
    "## DESCRIPTION:\n",
    "* Kids drink toddy.\n",
    "* Teens drink coke.\n",
    "* Young adults drink beer.\n",
    "* Adults drink whisky.\n",
    "\n",
    "Make a function that receive age, and return what they drink.\n",
    "\n",
    "## Rules:\n",
    "\n",
    "* Children under 14 old.\n",
    "* Teens under 18 old.\n",
    "* Young under 21 old.\n",
    "* Adults have 21 or more.\n",
    "\n",
    "## Solution:\n",
    "\n",
    "```python\n",
    "def people_with_age_drink(age):\n",
    "    if age > 20: return 'drink whisky'\n",
    "    if age > 17: return 'drink beer'\n",
    "    if age > 13: return 'drink coke'\n",
    "    return 'drink toddy'\n",
    "```"
   ]
  }
 ],
 "metadata": {
  "kernelspec": {
   "display_name": "Python 3 (ipykernel)",
   "language": "python",
   "name": "python3"
  },
  "language_info": {
   "codemirror_mode": {
    "name": "ipython",
    "version": 3
   },
   "file_extension": ".py",
   "mimetype": "text/x-python",
   "name": "python",
   "nbconvert_exporter": "python",
   "pygments_lexer": "ipython3",
   "version": "3.9.12"
  }
 },
 "nbformat": 4,
 "nbformat_minor": 5
}
