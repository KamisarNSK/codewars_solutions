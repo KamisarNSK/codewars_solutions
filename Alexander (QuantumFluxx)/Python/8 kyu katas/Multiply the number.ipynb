{
 "cells": [
  {
   "cell_type": "markdown",
   "id": "4ea34d2b",
   "metadata": {},
   "source": [
    "## DESCRIPTION\n",
    "Jack really likes his number five: the trick here is that you have to multiply each number by 5 raised to the number of digits of each numbers, so, for example:\n",
    "```\n",
    "multiply(3)==15 # 3 * 5¹\n",
    "multiply(10)==250 # 10 * 5²\n",
    "multiply(200)==25000 # 200 * 5³\n",
    "multiply(0)==0 # 0 * 5¹\n",
    "multiply(-3)==-15 # -3 * 5¹\n",
    "```\n",
    "\n",
    "## Solution:\n",
    "```python\n",
    "def multiply(n):\n",
    "    return n*5**len(str(abs(n))) \n",
    "```"
   ]
  }
 ],
 "metadata": {
  "kernelspec": {
   "display_name": "Python 3 (ipykernel)",
   "language": "python",
   "name": "python3"
  },
  "language_info": {
   "codemirror_mode": {
    "name": "ipython",
    "version": 3
   },
   "file_extension": ".py",
   "mimetype": "text/x-python",
   "name": "python",
   "nbconvert_exporter": "python",
   "pygments_lexer": "ipython3",
   "version": "3.9.12"
  }
 },
 "nbformat": 4,
 "nbformat_minor": 5
}
