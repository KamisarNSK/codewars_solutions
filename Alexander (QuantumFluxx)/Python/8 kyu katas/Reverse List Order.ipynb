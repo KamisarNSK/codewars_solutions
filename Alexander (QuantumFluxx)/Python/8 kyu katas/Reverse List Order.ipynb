{
 "cells": [
  {
   "cell_type": "markdown",
   "id": "1187b3b8",
   "metadata": {},
   "source": [
    "## DESCRIPTION:\n",
    "In this kata you will create a function that takes in a list and returns a list with the reverse order.\n",
    "```\n",
    "Examples (Input -> Output)\n",
    "* [1, 2, 3, 4]  -> [4, 3, 2, 1]\n",
    "* [9, 2, 0, 7]  -> [7, 0, 2, 9]\n",
    "```\n",
    "\n",
    "## Solution:\n",
    "```python\n",
    "def reverse_list(l):\n",
    "    return l[::-1]\n",
    "```"
   ]
  }
 ],
 "metadata": {
  "kernelspec": {
   "display_name": "Python 3 (ipykernel)",
   "language": "python",
   "name": "python3"
  },
  "language_info": {
   "codemirror_mode": {
    "name": "ipython",
    "version": 3
   },
   "file_extension": ".py",
   "mimetype": "text/x-python",
   "name": "python",
   "nbconvert_exporter": "python",
   "pygments_lexer": "ipython3",
   "version": "3.9.12"
  }
 },
 "nbformat": 4,
 "nbformat_minor": 5
}
