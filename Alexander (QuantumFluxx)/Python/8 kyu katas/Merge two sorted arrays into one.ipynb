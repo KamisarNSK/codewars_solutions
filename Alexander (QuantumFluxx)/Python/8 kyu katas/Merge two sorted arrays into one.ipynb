{
 "cells": [
  {
   "cell_type": "markdown",
   "id": "831036b2",
   "metadata": {},
   "source": [
    "## DESCRIPTION:\n",
    "You are given two sorted arrays that both only contain integers. Your task is to find a way to merge them into a single one, sorted in asc order. Complete the function mergeArrays(arr1, arr2), where arr1 and arr2 are the original sorted arrays.\n",
    "\n",
    "You don't need to worry about validation, since arr1 and arr2 must be arrays with 0 or more Integers. If both arr1 and arr2 are empty, then just return an empty array.\n",
    "\n",
    "Note: arr1 and arr2 may be sorted in different orders. Also arr1 and arr2 may have same integers. Remove duplicated in the returned result.\n",
    "```\n",
    "Examples (input -> output)\n",
    "* [1, 2, 3, 4, 5], [6, 7, 8, 9, 10] -> [1, 2, 3, 4, 5, 6, 7, 8, 9, 10]\n",
    "\n",
    "* [1, 3, 5, 7, 9], [10, 8, 6, 4, 2] -> [1, 2, 3, 4, 5, 6, 7, 8, 9, 10]\n",
    "\n",
    "* [1, 3, 5, 7, 9, 11, 12], [1, 2, 3, 4, 5, 10, 12] -> [1, 2, 3, 4, 5, 7, 9, 10, 11, 12]\n",
    "```\n",
    "Happy coding!\n",
    "\n",
    "## Solution:\n",
    "```python\n",
    "def merge_arrays(arr1, arr2):\n",
    "    return sorted(set(arr1+arr2))\n",
    "```"
   ]
  }
 ],
 "metadata": {
  "kernelspec": {
   "display_name": "Python 3 (ipykernel)",
   "language": "python",
   "name": "python3"
  },
  "language_info": {
   "codemirror_mode": {
    "name": "ipython",
    "version": 3
   },
   "file_extension": ".py",
   "mimetype": "text/x-python",
   "name": "python",
   "nbconvert_exporter": "python",
   "pygments_lexer": "ipython3",
   "version": "3.9.12"
  }
 },
 "nbformat": 4,
 "nbformat_minor": 5
}
