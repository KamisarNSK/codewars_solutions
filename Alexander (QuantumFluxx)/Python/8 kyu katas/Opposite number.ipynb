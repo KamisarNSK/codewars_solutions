{
 "cells": [
  {
   "cell_type": "markdown",
   "id": "ca0abcdb",
   "metadata": {},
   "source": [
    "## DESCRIPTION:\n",
    "Very simple, given an integer or a floating-point number, find its opposite.\n",
    "\n",
    "Examples:\n",
    "```\n",
    "1: -1\n",
    "14: -14\n",
    "-34: 34\n",
    "```\n",
    "\n",
    "## Solution:\n",
    "```python\n",
    "def opposite(number):\n",
    "    return -number\n",
    "```"
   ]
  }
 ],
 "metadata": {
  "kernelspec": {
   "display_name": "Python 3 (ipykernel)",
   "language": "python",
   "name": "python3"
  },
  "language_info": {
   "codemirror_mode": {
    "name": "ipython",
    "version": 3
   },
   "file_extension": ".py",
   "mimetype": "text/x-python",
   "name": "python",
   "nbconvert_exporter": "python",
   "pygments_lexer": "ipython3",
   "version": "3.9.12"
  }
 },
 "nbformat": 4,
 "nbformat_minor": 5
}
