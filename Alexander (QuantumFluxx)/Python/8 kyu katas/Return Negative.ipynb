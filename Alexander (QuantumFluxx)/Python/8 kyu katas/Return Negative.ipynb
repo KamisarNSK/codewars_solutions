{
 "cells": [
  {
   "cell_type": "markdown",
   "id": "0d562392",
   "metadata": {},
   "source": [
    "## DESCRIPTION:\n",
    "In this simple assignment you are given a number and have to make it negative. But maybe the number is already negative?\n",
    "```\n",
    "Examples\n",
    "make_negative(1);  # return -1\n",
    "make_negative(-5); # return -5\n",
    "make_negative(0);  # return 0\n",
    "```\n",
    "Notes\n",
    "* The number can be negative already, in which case no change is required.\n",
    "* Zero (0) is not checked for any specific sign. Negative zeros make no mathematical sense.\n",
    "\n",
    "## Solution:\n",
    "```python\n",
    "def make_negative( number ):\n",
    "    return -number if number>0 else number\n",
    "```"
   ]
  }
 ],
 "metadata": {
  "kernelspec": {
   "display_name": "Python 3 (ipykernel)",
   "language": "python",
   "name": "python3"
  },
  "language_info": {
   "codemirror_mode": {
    "name": "ipython",
    "version": 3
   },
   "file_extension": ".py",
   "mimetype": "text/x-python",
   "name": "python",
   "nbconvert_exporter": "python",
   "pygments_lexer": "ipython3",
   "version": "3.9.12"
  }
 },
 "nbformat": 4,
 "nbformat_minor": 5
}
