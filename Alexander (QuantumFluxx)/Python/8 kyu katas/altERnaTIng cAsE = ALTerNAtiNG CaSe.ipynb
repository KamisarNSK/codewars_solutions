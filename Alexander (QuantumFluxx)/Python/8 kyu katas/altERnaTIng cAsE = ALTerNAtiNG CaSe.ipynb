{
 "cells": [
  {
   "cell_type": "markdown",
   "id": "d315f7d0",
   "metadata": {},
   "source": [
    "## DESCRIPTION:\n",
    "altERnaTIng cAsE <=> ALTerNAtiNG CaSe\n",
    "altERnaTIng cAsE <=> ALTerNAtiNG CaSe\n",
    "Define String.prototype.toAlternatingCase (or a similar function/method such as to_alternating_case/toAlternatingCase/ToAlternatingCase in your selected language; see the initial solution for details) such that each lowercase letter becomes uppercase and each uppercase letter becomes lowercase. For example:\n",
    "```\n",
    "\"hello world\".toAlternatingCase() === \"HELLO WORLD\"\n",
    "\"HELLO WORLD\".toAlternatingCase() === \"hello world\"\n",
    "\"hello WORLD\".toAlternatingCase() === \"HELLO world\"\n",
    "\"HeLLo WoRLD\".toAlternatingCase() === \"hEllO wOrld\"\n",
    "\"12345\".toAlternatingCase() === \"12345\" // Non-alphabetical characters are unaffected\n",
    "\"1a2b3c4d5e\".toAlternatingCase() === \"1A2B3C4D5E\"\n",
    "\"String.prototype.toAlternatingCase\".toAlternatingCase() === \"sTRING.PROTOTYPE.TOaLTERNATINGcASE\"\n",
    "```\n",
    "As usual, your function/method should be pure, i.e. it should not mutate the original string.\n",
    "\n",
    "## Solution:\n",
    "```python\n",
    "def to_alternating_case(string):\n",
    "    return string.swapcase()\n",
    "```"
   ]
  }
 ],
 "metadata": {
  "kernelspec": {
   "display_name": "Python 3 (ipykernel)",
   "language": "python",
   "name": "python3"
  },
  "language_info": {
   "codemirror_mode": {
    "name": "ipython",
    "version": 3
   },
   "file_extension": ".py",
   "mimetype": "text/x-python",
   "name": "python",
   "nbconvert_exporter": "python",
   "pygments_lexer": "ipython3",
   "version": "3.9.12"
  }
 },
 "nbformat": 4,
 "nbformat_minor": 5
}
