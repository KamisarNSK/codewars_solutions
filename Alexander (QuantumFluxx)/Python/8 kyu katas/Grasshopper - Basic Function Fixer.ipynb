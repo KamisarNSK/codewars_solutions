{
 "cells": [
  {
   "cell_type": "markdown",
   "id": "fafc6bef",
   "metadata": {},
   "source": [
    "## DESCRIPTION:\n",
    "Fix the function\n",
    "I created this function to add five to any number that was passed in to it and return the new value. It doesn't throw any errors but it returns the wrong number.\n",
    "\n",
    "Can you help me fix the function?\n",
    "\n",
    "## Solution:\n",
    "```python\n",
    "def add_five(num):\n",
    "    total = num + 5\n",
    "    return total\n",
    "```"
   ]
  }
 ],
 "metadata": {
  "kernelspec": {
   "display_name": "Python 3 (ipykernel)",
   "language": "python",
   "name": "python3"
  },
  "language_info": {
   "codemirror_mode": {
    "name": "ipython",
    "version": 3
   },
   "file_extension": ".py",
   "mimetype": "text/x-python",
   "name": "python",
   "nbconvert_exporter": "python",
   "pygments_lexer": "ipython3",
   "version": "3.9.12"
  }
 },
 "nbformat": 4,
 "nbformat_minor": 5
}
