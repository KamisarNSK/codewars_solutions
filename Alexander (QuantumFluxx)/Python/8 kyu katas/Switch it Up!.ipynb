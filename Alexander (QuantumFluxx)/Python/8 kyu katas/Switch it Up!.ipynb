{
 "cells": [
  {
   "cell_type": "markdown",
   "id": "2c50cab9",
   "metadata": {},
   "source": [
    "## DESCRIPTION:\n",
    "When provided with a number between 0-9, return it in words.\n",
    "\n",
    "Input :: 1\n",
    "\n",
    "Output :: \"One\".\n",
    "\n",
    "If your language supports it, try using a switch statement.\n",
    "\n",
    "## Solution:\n",
    "```python\n",
    "def switch_it_up(n):\n",
    "    return ['Zero','One','Two','Three','Four','Five','Six','Seven','Eight','Nine'][n]\n",
    "```"
   ]
  }
 ],
 "metadata": {
  "kernelspec": {
   "display_name": "Python 3 (ipykernel)",
   "language": "python",
   "name": "python3"
  },
  "language_info": {
   "codemirror_mode": {
    "name": "ipython",
    "version": 3
   },
   "file_extension": ".py",
   "mimetype": "text/x-python",
   "name": "python",
   "nbconvert_exporter": "python",
   "pygments_lexer": "ipython3",
   "version": "3.9.12"
  }
 },
 "nbformat": 4,
 "nbformat_minor": 5
}
