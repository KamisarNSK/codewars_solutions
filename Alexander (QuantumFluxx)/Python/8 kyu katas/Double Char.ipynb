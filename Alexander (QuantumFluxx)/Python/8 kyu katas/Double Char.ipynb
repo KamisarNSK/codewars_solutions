{
 "cells": [
  {
   "cell_type": "markdown",
   "id": "9a962000",
   "metadata": {},
   "source": [
    "## DESCRIPTION:\n",
    "Given a string, you have to return a string in which each character (case-sensitive) is repeated once.\n",
    "```\n",
    "Examples (Input -> Output):\n",
    "* \"String\"      -> \"SSttrriinngg\"\n",
    "* \"Hello World\" -> \"HHeelllloo  WWoorrlldd\"\n",
    "* \"1234!_ \"     -> \"11223344!!__  \"\n",
    "```\n",
    "Good Luck!\n",
    "\n",
    "## Solution:\n",
    "```python\n",
    "def double_char(s):\n",
    "    return \"\".join([c * 2 for c in s])\n",
    "```"
   ]
  }
 ],
 "metadata": {
  "kernelspec": {
   "display_name": "Python 3 (ipykernel)",
   "language": "python",
   "name": "python3"
  },
  "language_info": {
   "codemirror_mode": {
    "name": "ipython",
    "version": 3
   },
   "file_extension": ".py",
   "mimetype": "text/x-python",
   "name": "python",
   "nbconvert_exporter": "python",
   "pygments_lexer": "ipython3",
   "version": "3.9.12"
  }
 },
 "nbformat": 4,
 "nbformat_minor": 5
}
