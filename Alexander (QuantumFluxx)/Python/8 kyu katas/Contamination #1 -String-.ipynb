{
 "cells": [
  {
   "cell_type": "markdown",
   "id": "1b47e0d3",
   "metadata": {},
   "source": [
    "## DESCRIPTION:\n",
    "An AI has infected a text with a character!!\n",
    "\n",
    "This text is now fully mutated to this character.\n",
    "\n",
    "If the text or the character are empty, return an empty string.\n",
    "There will never be a case when both are empty as nothing is going on!!\n",
    "\n",
    "Note: The character is a string of length 1 or an empty string.\n",
    "```\n",
    "Example\n",
    "text before = \"abc\"\n",
    "character   = \"z\"\n",
    "text after  = \"zzz\"\n",
    "```\n",
    "\n",
    "## Solution:\n",
    "```python\n",
    "def contamination(text, char):\n",
    "    char2 =len(text)\n",
    "    return text.replace(text, char*char2)\n",
    "```"
   ]
  }
 ],
 "metadata": {
  "kernelspec": {
   "display_name": "Python 3 (ipykernel)",
   "language": "python",
   "name": "python3"
  },
  "language_info": {
   "codemirror_mode": {
    "name": "ipython",
    "version": 3
   },
   "file_extension": ".py",
   "mimetype": "text/x-python",
   "name": "python",
   "nbconvert_exporter": "python",
   "pygments_lexer": "ipython3",
   "version": "3.9.12"
  }
 },
 "nbformat": 4,
 "nbformat_minor": 5
}
