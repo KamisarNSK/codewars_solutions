{
 "cells": [
  {
   "cell_type": "markdown",
   "id": "afe8c9ae",
   "metadata": {},
   "source": [
    "## DESCRIPTION:\n",
    "Add the value \"codewars\" to the websites array.\n",
    "After your code executes the websites array should == [\"codewars\"]\n",
    "\n",
    "The websites array has already been defined for you using the following code:\n",
    "\n",
    "websites = []\n",
    "\n",
    "## Solution:\n",
    "```python\n",
    "websites.append(\"codewars\")\n",
    "```"
   ]
  }
 ],
 "metadata": {
  "kernelspec": {
   "display_name": "Python 3 (ipykernel)",
   "language": "python",
   "name": "python3"
  },
  "language_info": {
   "codemirror_mode": {
    "name": "ipython",
    "version": 3
   },
   "file_extension": ".py",
   "mimetype": "text/x-python",
   "name": "python",
   "nbconvert_exporter": "python",
   "pygments_lexer": "ipython3",
   "version": "3.9.12"
  }
 },
 "nbformat": 4,
 "nbformat_minor": 5
}
