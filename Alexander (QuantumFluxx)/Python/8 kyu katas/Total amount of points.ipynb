{
 "cells": [
  {
   "cell_type": "markdown",
   "id": "00269f76",
   "metadata": {},
   "source": [
    "## DESCRIPTION:\n",
    "Our football team finished the championship. The result of each match look like \"x:y\". Results of all matches are recorded in the collection.\n",
    "\n",
    "For example: [\"3:1\", \"2:2\", \"0:1\", ...]\n",
    "\n",
    "Write a function that takes such collection and counts the points of our team in the championship. Rules for counting points for each match:\n",
    "\n",
    "* if x > y: 3 points\n",
    "* if x < y: 0 point\n",
    "* if x = y: 1 point\n",
    "\n",
    "Notes:\n",
    "\n",
    "there are 10 matches in the championship\n",
    "* 0 <= x <= 4\n",
    "* 0 <= y <= 4\n",
    "\n",
    "## Solution:\n",
    "```python\n",
    "def points(games):\n",
    "    result = 0\n",
    "    for item in games:\n",
    "        result += 3 if item[0] > item[2] else 0     \n",
    "        result += 1 if item[0] == item[2] else 0\n",
    "    return result\n",
    "```"
   ]
  }
 ],
 "metadata": {
  "kernelspec": {
   "display_name": "Python 3 (ipykernel)",
   "language": "python",
   "name": "python3"
  },
  "language_info": {
   "codemirror_mode": {
    "name": "ipython",
    "version": 3
   },
   "file_extension": ".py",
   "mimetype": "text/x-python",
   "name": "python",
   "nbconvert_exporter": "python",
   "pygments_lexer": "ipython3",
   "version": "3.9.12"
  }
 },
 "nbformat": 4,
 "nbformat_minor": 5
}
