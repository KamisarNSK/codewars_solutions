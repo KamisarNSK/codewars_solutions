{
 "cells": [
  {
   "cell_type": "markdown",
   "id": "b5a1ed22",
   "metadata": {},
   "source": [
    "## DESCRIPTION:\n",
    "After a hard quarter in the office you decide to get some rest on a vacation. So you will book a flight for you and your girlfriend and try to leave all the mess behind you.\n",
    "\n",
    "You will need a rental car in order for you to get around in your vacation. The manager of the car rental makes you some good offers.\n",
    "\n",
    "Every day you rent the car costs `$40`. If you rent the car for 7 or more days, you get `$50` off your total. Alternatively, if you rent the car for 3 or more days, you get `$20` off your total.\n",
    "\n",
    "Write a code that gives out the total amount for different days(d).\n",
    "\n",
    "## Solution:\n",
    "\n",
    "```python\n",
    "def rental_car_cost(d):\n",
    "    if d >= 7: return d * 40 - 50\n",
    "    elif d >= 3: return d * 40 - 20\n",
    "    return d * 40\n",
    "```"
   ]
  }
 ],
 "metadata": {
  "kernelspec": {
   "display_name": "Python 3 (ipykernel)",
   "language": "python",
   "name": "python3"
  },
  "language_info": {
   "codemirror_mode": {
    "name": "ipython",
    "version": 3
   },
   "file_extension": ".py",
   "mimetype": "text/x-python",
   "name": "python",
   "nbconvert_exporter": "python",
   "pygments_lexer": "ipython3",
   "version": "3.9.12"
  }
 },
 "nbformat": 4,
 "nbformat_minor": 5
}
