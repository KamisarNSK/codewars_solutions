{
 "cells": [
  {
   "cell_type": "markdown",
   "id": "0260d2e5",
   "metadata": {},
   "source": [
    "## DESCRIPTION:\n",
    "Write a function that accepts an integer n and a string s as parameters, and returns a string of s repeated exactly n times.\n",
    "```\n",
    "Examples (input -> output)\n",
    "6, \"I\"     -> \"IIIIII\"\n",
    "5, \"Hello\" -> \"HelloHelloHelloHelloHello\"\n",
    "```\n",
    "\n",
    "## Solution:\n",
    "```python\n",
    "def repeat_str(repeat, string):\n",
    "    return string*repeat\n",
    "```"
   ]
  }
 ],
 "metadata": {
  "kernelspec": {
   "display_name": "Python 3 (ipykernel)",
   "language": "python",
   "name": "python3"
  },
  "language_info": {
   "codemirror_mode": {
    "name": "ipython",
    "version": 3
   },
   "file_extension": ".py",
   "mimetype": "text/x-python",
   "name": "python",
   "nbconvert_exporter": "python",
   "pygments_lexer": "ipython3",
   "version": "3.9.12"
  }
 },
 "nbformat": 4,
 "nbformat_minor": 5
}
