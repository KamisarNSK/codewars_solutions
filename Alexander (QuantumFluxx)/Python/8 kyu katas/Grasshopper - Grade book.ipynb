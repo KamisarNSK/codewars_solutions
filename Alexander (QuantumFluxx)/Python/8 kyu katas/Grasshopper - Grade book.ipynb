{
 "cells": [
  {
   "cell_type": "markdown",
   "id": "2e326556",
   "metadata": {},
   "source": [
    "## DESCRIPTION:\n",
    "Grade book\n",
    "Complete the function so that it finds the average of the three scores passed to it and returns the letter value associated with that grade.\n",
    "```\n",
    "Numerical Score\tLetter Grade\n",
    "90 <= score <= 100\t'A'\n",
    "80 <= score < 90\t'B'\n",
    "70 <= score < 80\t'C'\n",
    "60 <= score < 70\t'D'\n",
    "0 <= score < 60\t'F'\n",
    "```\n",
    "Tested values are all between 0 and 100. Theres is no need to check for negative values or values greater than 100.\n",
    "\n",
    "## Solution:\n",
    "```python\n",
    "def get_grade(s1, s2, s3):\n",
    "    mean = sum([s1,s2,s3])/3\n",
    "    if mean>=90: return 'A'\n",
    "    if mean>=80: return 'B'\n",
    "    if mean>=70: return 'C'\n",
    "    if mean>=60: return 'D'\n",
    "    return 'F'\n",
    "```"
   ]
  }
 ],
 "metadata": {
  "kernelspec": {
   "display_name": "Python 3 (ipykernel)",
   "language": "python",
   "name": "python3"
  },
  "language_info": {
   "codemirror_mode": {
    "name": "ipython",
    "version": 3
   },
   "file_extension": ".py",
   "mimetype": "text/x-python",
   "name": "python",
   "nbconvert_exporter": "python",
   "pygments_lexer": "ipython3",
   "version": "3.9.12"
  }
 },
 "nbformat": 4,
 "nbformat_minor": 5
}
