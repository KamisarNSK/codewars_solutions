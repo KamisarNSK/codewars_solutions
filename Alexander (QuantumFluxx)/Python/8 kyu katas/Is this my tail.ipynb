{
 "cells": [
  {
   "cell_type": "markdown",
   "id": "b408cb11",
   "metadata": {},
   "source": [
    "## DESCRIPTION:\n",
    "Some new animals have arrived at the zoo. The zoo keeper is concerned that perhaps the animals do not have the right tails. To help her, you must correct the broken function to make sure that the second argument (tail), is the same as the last letter of the first argument (body) - otherwise the tail wouldn't fit!\n",
    "\n",
    "If the tail is right return true, else return false.\n",
    "\n",
    "The arguments will always be non empty strings, and normal letters.\n",
    "\n",
    "## Solution:\n",
    "```python\n",
    "def correct_tail(body, tail):\n",
    "    return True if body[-1] == tail else False\n",
    "```"
   ]
  }
 ],
 "metadata": {
  "kernelspec": {
   "display_name": "Python 3 (ipykernel)",
   "language": "python",
   "name": "python3"
  },
  "language_info": {
   "codemirror_mode": {
    "name": "ipython",
    "version": 3
   },
   "file_extension": ".py",
   "mimetype": "text/x-python",
   "name": "python",
   "nbconvert_exporter": "python",
   "pygments_lexer": "ipython3",
   "version": "3.9.12"
  }
 },
 "nbformat": 4,
 "nbformat_minor": 5
}
