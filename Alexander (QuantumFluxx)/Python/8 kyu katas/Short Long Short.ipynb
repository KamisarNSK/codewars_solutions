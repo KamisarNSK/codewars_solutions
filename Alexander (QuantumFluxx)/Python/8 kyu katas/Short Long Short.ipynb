{
 "cells": [
  {
   "cell_type": "markdown",
   "id": "4ff3db4e",
   "metadata": {},
   "source": [
    "## DESCRIPTION:\n",
    "Given 2 strings, a and b, return a string of the form short+long+short, with the shorter string on the outside and the longer string on the inside. The strings will not be the same length, but they may be empty ( zero length ).\n",
    "\n",
    "Hint for R users:\n",
    "\n",
    "The length of string is not always the same as the number of characters\n",
    "For example: (Input1, Input2) --> output\n",
    "```\n",
    "(\"1\", \"22\") --> \"1221\"\n",
    "(\"22\", \"1\") --> \"1221\"\n",
    "```\n",
    "\n",
    "## Solution:\n",
    "```python\n",
    "def solution(a, b):\n",
    "    return a+b+a if len(a)<len(b) else b+a+b\n",
    "```"
   ]
  }
 ],
 "metadata": {
  "kernelspec": {
   "display_name": "Python 3 (ipykernel)",
   "language": "python",
   "name": "python3"
  },
  "language_info": {
   "codemirror_mode": {
    "name": "ipython",
    "version": 3
   },
   "file_extension": ".py",
   "mimetype": "text/x-python",
   "name": "python",
   "nbconvert_exporter": "python",
   "pygments_lexer": "ipython3",
   "version": "3.9.12"
  }
 },
 "nbformat": 4,
 "nbformat_minor": 5
}
