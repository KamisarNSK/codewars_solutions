{
 "cells": [
  {
   "cell_type": "markdown",
   "id": "4ec8e258",
   "metadata": {},
   "source": [
    "## DESCRIPTION:\n",
    "The cockroach is one of the fastest insects. Write a function which takes its speed in km per hour and returns it in cm per second, rounded down to the integer (= floored).\n",
    "```\n",
    "For example:\n",
    "1.08 --> 30\n",
    "Note! The input is a Real number (actual type is language dependent) and is >= 0. The result should be an Integer.\n",
    "```\n",
    "\n",
    "## Solution:\n",
    "```python\n",
    "from math import floor\n",
    "def cockroach_speed(s):\n",
    "    return floor(s * 27.778)\n",
    "```"
   ]
  }
 ],
 "metadata": {
  "kernelspec": {
   "display_name": "Python 3 (ipykernel)",
   "language": "python",
   "name": "python3"
  },
  "language_info": {
   "codemirror_mode": {
    "name": "ipython",
    "version": 3
   },
   "file_extension": ".py",
   "mimetype": "text/x-python",
   "name": "python",
   "nbconvert_exporter": "python",
   "pygments_lexer": "ipython3",
   "version": "3.9.12"
  }
 },
 "nbformat": 4,
 "nbformat_minor": 5
}
