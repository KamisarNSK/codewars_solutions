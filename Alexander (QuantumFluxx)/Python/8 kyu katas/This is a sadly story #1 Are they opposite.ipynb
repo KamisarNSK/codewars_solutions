{
 "cells": [
  {
   "cell_type": "markdown",
   "id": "b5fa70ed",
   "metadata": {},
   "source": [
    "## DESCRIPTION:\n",
    "Task\n",
    "Give you two strings: s1 and s2. If they are opposite, return true; otherwise, return false. Note: The result should be a boolean value, instead of a string.\n",
    "\n",
    "The opposite means: All letters of the two strings are the same, but the case is opposite. you can assume that the string only contains letters or it's a empty string. Also take note of the edge case - if both strings are empty then you should return false/False.\n",
    "```\n",
    "Examples (input -> output)\n",
    "\"ab\",\"AB\"     -> true\n",
    "\"aB\",\"Ab\"     -> true\n",
    "\"aBcd\",\"AbCD\" -> true\n",
    "\"AB\",\"Ab\"     -> false\n",
    "\"\",\"\"         -> false\n",
    "```\n",
    "## Solution:\n",
    "```python\n",
    "def is_opposite(s1, s2):\n",
    "    return False if not(s1 or s2) else s1.swapcase() == s2\n",
    "```"
   ]
  }
 ],
 "metadata": {
  "kernelspec": {
   "display_name": "Python 3 (ipykernel)",
   "language": "python",
   "name": "python3"
  },
  "language_info": {
   "codemirror_mode": {
    "name": "ipython",
    "version": 3
   },
   "file_extension": ".py",
   "mimetype": "text/x-python",
   "name": "python",
   "nbconvert_exporter": "python",
   "pygments_lexer": "ipython3",
   "version": "3.9.12"
  }
 },
 "nbformat": 4,
 "nbformat_minor": 5
}
