{
 "cells": [
  {
   "cell_type": "markdown",
   "id": "1ec81f18",
   "metadata": {},
   "source": [
    "## DESCRIPTION:\n",
    "This function should return an object, but it's not doing what's intended. What's wrong?\n",
    "\n",
    "## Solution:\n",
    "```python\n",
    "def mystery():\n",
    "    return {'sanity': 'Hello'}\n",
    "```"
   ]
  }
 ],
 "metadata": {
  "kernelspec": {
   "display_name": "Python 3 (ipykernel)",
   "language": "python",
   "name": "python3"
  },
  "language_info": {
   "codemirror_mode": {
    "name": "ipython",
    "version": 3
   },
   "file_extension": ".py",
   "mimetype": "text/x-python",
   "name": "python",
   "nbconvert_exporter": "python",
   "pygments_lexer": "ipython3",
   "version": "3.9.12"
  }
 },
 "nbformat": 4,
 "nbformat_minor": 5
}
