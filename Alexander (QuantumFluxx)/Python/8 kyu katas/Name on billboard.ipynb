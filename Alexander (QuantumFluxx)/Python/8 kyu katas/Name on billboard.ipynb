{
 "cells": [
  {
   "cell_type": "markdown",
   "id": "df358fb3",
   "metadata": {},
   "source": [
    "## DESCRIPTION:\n",
    "You can print your name on a billboard ad. Find out how much it will cost you. Each letter has a default price of £30, but that can be different if you are given 2 parameters instead of 1.\n",
    "\n",
    "You can not use multiplier \"*\" operator.\n",
    "\n",
    "If your name would be Jeong-Ho Aristotelis, ad would cost £600. 20 leters * 30 = 600 (Space counts as a letter).\n",
    "\n",
    "## Solution:\n",
    "```python\n",
    "def billboard(name, price = 30):\n",
    "    return len(name) * price\n",
    "```"
   ]
  }
 ],
 "metadata": {
  "kernelspec": {
   "display_name": "Python 3 (ipykernel)",
   "language": "python",
   "name": "python3"
  },
  "language_info": {
   "codemirror_mode": {
    "name": "ipython",
    "version": 3
   },
   "file_extension": ".py",
   "mimetype": "text/x-python",
   "name": "python",
   "nbconvert_exporter": "python",
   "pygments_lexer": "ipython3",
   "version": "3.9.12"
  }
 },
 "nbformat": 4,
 "nbformat_minor": 5
}
