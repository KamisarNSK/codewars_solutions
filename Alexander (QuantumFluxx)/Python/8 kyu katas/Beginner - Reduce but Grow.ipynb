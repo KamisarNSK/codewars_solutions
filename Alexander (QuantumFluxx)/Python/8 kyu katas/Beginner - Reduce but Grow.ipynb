{
 "cells": [
  {
   "cell_type": "markdown",
   "id": "750adb3b",
   "metadata": {},
   "source": [
    "## DESCRIPTION:\n",
    "Given a non-empty array of integers, return the result of multiplying the values together in order. Example:\n",
    "```\n",
    "[1, 2, 3, 4] => 1 * 2 * 3 * 4 = 24\n",
    "```\n",
    "\n",
    "## Solution:\n",
    "```python\n",
    "def grow(arr):\n",
    "    counter = 1\n",
    "    for i in arr:\n",
    "        counter *= i\n",
    "    return counter\n",
    "```"
   ]
  }
 ],
 "metadata": {
  "kernelspec": {
   "display_name": "Python 3 (ipykernel)",
   "language": "python",
   "name": "python3"
  },
  "language_info": {
   "codemirror_mode": {
    "name": "ipython",
    "version": 3
   },
   "file_extension": ".py",
   "mimetype": "text/x-python",
   "name": "python",
   "nbconvert_exporter": "python",
   "pygments_lexer": "ipython3",
   "version": "3.9.12"
  }
 },
 "nbformat": 4,
 "nbformat_minor": 5
}
