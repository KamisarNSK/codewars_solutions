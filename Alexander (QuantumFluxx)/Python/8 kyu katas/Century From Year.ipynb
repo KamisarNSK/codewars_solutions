{
 "cells": [
  {
   "cell_type": "markdown",
   "id": "c81e9dd5",
   "metadata": {},
   "source": [
    "## DESCRIPTION:\n",
    "Introduction\n",
    "The first century spans from the year 1 up to and including the year 100, the second century - from the year 101 up to and including the year 200, etc.\n",
    "\n",
    "### Task\n",
    "Given a year, return the century it is in.\n",
    "```\n",
    "Examples\n",
    "1705 --> 18\n",
    "1900 --> 19\n",
    "1601 --> 17\n",
    "2000 --> 20\n",
    "```\n",
    "\n",
    "## Solution:\n",
    "```python\n",
    "import math\n",
    "def century(year):\n",
    "    return math.ceil(year / 100)\n",
    "```"
   ]
  }
 ],
 "metadata": {
  "kernelspec": {
   "display_name": "Python 3 (ipykernel)",
   "language": "python",
   "name": "python3"
  },
  "language_info": {
   "codemirror_mode": {
    "name": "ipython",
    "version": 3
   },
   "file_extension": ".py",
   "mimetype": "text/x-python",
   "name": "python",
   "nbconvert_exporter": "python",
   "pygments_lexer": "ipython3",
   "version": "3.9.12"
  }
 },
 "nbformat": 4,
 "nbformat_minor": 5
}
