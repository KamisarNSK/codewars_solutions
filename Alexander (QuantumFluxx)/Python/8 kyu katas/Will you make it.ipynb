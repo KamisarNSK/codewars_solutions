{
 "cells": [
  {
   "cell_type": "markdown",
   "id": "04873ae9",
   "metadata": {},
   "source": [
    "## DESCRIPTION:\n",
    "You were camping with your friends far away from home, but when it's time to go back, you realize that your fuel is running out and the nearest pump is 50 miles away! You know that on average, your car runs on about 25 miles per gallon. There are 2 gallons left.\n",
    "\n",
    "Considering these factors, write a function that tells you if it is possible to get to the pump or not.\n",
    "\n",
    "Function should return true if it is possible and false if not.\n",
    "\n",
    "## Solution:\n",
    "```python\n",
    "def zero_fuel(distance_to_pump, mpg, fuel_left):\n",
    "    return True if distance_to_pump <= mpg * fuel_left else False\n",
    "```"
   ]
  }
 ],
 "metadata": {
  "kernelspec": {
   "display_name": "Python 3 (ipykernel)",
   "language": "python",
   "name": "python3"
  },
  "language_info": {
   "codemirror_mode": {
    "name": "ipython",
    "version": 3
   },
   "file_extension": ".py",
   "mimetype": "text/x-python",
   "name": "python",
   "nbconvert_exporter": "python",
   "pygments_lexer": "ipython3",
   "version": "3.9.12"
  }
 },
 "nbformat": 4,
 "nbformat_minor": 5
}
