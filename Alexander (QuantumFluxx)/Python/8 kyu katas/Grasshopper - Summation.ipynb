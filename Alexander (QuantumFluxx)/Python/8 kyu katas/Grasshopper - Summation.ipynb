{
 "cells": [
  {
   "cell_type": "markdown",
   "id": "102f9a0d",
   "metadata": {},
   "source": [
    "## DESCRIPTION:\n",
    "Summation\n",
    "Write a program that finds the summation of every number from 1 to num. The number will always be a positive integer greater than 0.\n",
    "```\n",
    "For example:\n",
    "\n",
    "summation(2) -> 3\n",
    "1 + 2\n",
    "\n",
    "summation(8) -> 36\n",
    "1 + 2 + 3 + 4 + 5 + 6 + 7 + 8\n",
    "```\n",
    "\n",
    "## Solution:\n",
    "```python\n",
    "def summation(num):\n",
    "    return sum(range(1,num+1))\n",
    "```"
   ]
  }
 ],
 "metadata": {
  "kernelspec": {
   "display_name": "Python 3 (ipykernel)",
   "language": "python",
   "name": "python3"
  },
  "language_info": {
   "codemirror_mode": {
    "name": "ipython",
    "version": 3
   },
   "file_extension": ".py",
   "mimetype": "text/x-python",
   "name": "python",
   "nbconvert_exporter": "python",
   "pygments_lexer": "ipython3",
   "version": "3.9.12"
  }
 },
 "nbformat": 4,
 "nbformat_minor": 5
}
