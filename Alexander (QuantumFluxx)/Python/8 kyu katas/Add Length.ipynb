{
 "cells": [
  {
   "cell_type": "markdown",
   "id": "a31266b8",
   "metadata": {},
   "source": [
    "## DESCRIPTION:\n",
    "What if we need the length of the words separated by a space to be added at the end of that same word and have it returned as an array?\n",
    "```\n",
    "Example(Input --> Output)\n",
    "\n",
    "\"apple ban\" --> [\"apple 5\", \"ban 3\"]\n",
    "\"you will win\" -->[\"you 3\", \"will 4\", \"win 3\"]\n",
    "Your task is to write a function that takes a String and returns an Array/list with the length of each word added to each element .\n",
    "```\n",
    "Note: String will have at least one element; words will always be separated by a space.\n",
    "\n",
    "## Solution:\n",
    "```python\n",
    "def add_length(str_):\n",
    "    return [f'{elem} {len(elem)}' for elem in str_.split()]\n",
    "```"
   ]
  }
 ],
 "metadata": {
  "kernelspec": {
   "display_name": "Python 3 (ipykernel)",
   "language": "python",
   "name": "python3"
  },
  "language_info": {
   "codemirror_mode": {
    "name": "ipython",
    "version": 3
   },
   "file_extension": ".py",
   "mimetype": "text/x-python",
   "name": "python",
   "nbconvert_exporter": "python",
   "pygments_lexer": "ipython3",
   "version": "3.9.12"
  }
 },
 "nbformat": 4,
 "nbformat_minor": 5
}
