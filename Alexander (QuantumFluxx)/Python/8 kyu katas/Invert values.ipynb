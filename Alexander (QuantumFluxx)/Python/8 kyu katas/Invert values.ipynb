{
 "cells": [
  {
   "cell_type": "markdown",
   "id": "3fc6ebca",
   "metadata": {},
   "source": [
    "## DESCRIPTION:\n",
    "Given a set of numbers, return the additive inverse of each. Each positive becomes negatives, and the negatives become positives.\n",
    "```\n",
    "invert([1,2,3,4,5]) == [-1,-2,-3,-4,-5]\n",
    "invert([1,-2,3,-4,5]) == [-1,2,-3,4,-5]\n",
    "invert([]) == []\n",
    "```\n",
    "You can assume that all values are integers. Do not mutate the input array/list.\n",
    "\n",
    "## Solution:\n",
    "```python\n",
    "def invert(lst):\n",
    "    return [-x for x in lst]\n",
    "```"
   ]
  }
 ],
 "metadata": {
  "kernelspec": {
   "display_name": "Python 3 (ipykernel)",
   "language": "python",
   "name": "python3"
  },
  "language_info": {
   "codemirror_mode": {
    "name": "ipython",
    "version": 3
   },
   "file_extension": ".py",
   "mimetype": "text/x-python",
   "name": "python",
   "nbconvert_exporter": "python",
   "pygments_lexer": "ipython3",
   "version": "3.9.12"
  }
 },
 "nbformat": 4,
 "nbformat_minor": 5
}
