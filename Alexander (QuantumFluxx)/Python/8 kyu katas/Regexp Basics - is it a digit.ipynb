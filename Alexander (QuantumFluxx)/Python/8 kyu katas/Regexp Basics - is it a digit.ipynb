{
 "cells": [
  {
   "cell_type": "markdown",
   "id": "240384ab",
   "metadata": {},
   "source": [
    "## DESCRIPTION:\n",
    "Implement String#digit? (in Java StringUtils.isDigit(String)), which should return true if given object is a digit (0-9), false otherwise.\n",
    "\n",
    "## Solution:\n",
    "```python\n",
    "def is_digit(n):\n",
    "    return n.isdigit() and len(n)==1\n",
    "```"
   ]
  }
 ],
 "metadata": {
  "kernelspec": {
   "display_name": "Python 3 (ipykernel)",
   "language": "python",
   "name": "python3"
  },
  "language_info": {
   "codemirror_mode": {
    "name": "ipython",
    "version": 3
   },
   "file_extension": ".py",
   "mimetype": "text/x-python",
   "name": "python",
   "nbconvert_exporter": "python",
   "pygments_lexer": "ipython3",
   "version": "3.9.12"
  }
 },
 "nbformat": 4,
 "nbformat_minor": 5
}
