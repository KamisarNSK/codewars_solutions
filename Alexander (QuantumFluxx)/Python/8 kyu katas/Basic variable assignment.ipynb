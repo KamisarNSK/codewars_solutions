{
 "cells": [
  {
   "cell_type": "markdown",
   "id": "50f15cbc",
   "metadata": {},
   "source": [
    "## DESCRIPTION:\n",
    "This code should store \"codewa.rs\" as a variable called name but it's not working. Can you figure out why?\n",
    "\n",
    "## Solution:\n",
    "```python\n",
    "a = \"code\"\n",
    "b = \"wa.rs\"\n",
    "name = a + b\n",
    "```"
   ]
  }
 ],
 "metadata": {
  "kernelspec": {
   "display_name": "Python 3 (ipykernel)",
   "language": "python",
   "name": "python3"
  },
  "language_info": {
   "codemirror_mode": {
    "name": "ipython",
    "version": 3
   },
   "file_extension": ".py",
   "mimetype": "text/x-python",
   "name": "python",
   "nbconvert_exporter": "python",
   "pygments_lexer": "ipython3",
   "version": "3.9.12"
  }
 },
 "nbformat": 4,
 "nbformat_minor": 5
}
