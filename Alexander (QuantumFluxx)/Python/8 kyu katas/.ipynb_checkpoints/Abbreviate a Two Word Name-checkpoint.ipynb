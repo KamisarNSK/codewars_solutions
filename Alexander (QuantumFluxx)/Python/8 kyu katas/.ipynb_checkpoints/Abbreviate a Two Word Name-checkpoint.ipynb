{
 "cells": [
  {
   "cell_type": "markdown",
   "id": "98254ad3",
   "metadata": {},
   "source": [
    "## DESCRIPTION:\n",
    "Write a function to convert a name into initials. This kata strictly takes two words with one space in between them.\n",
    "\n",
    "The output should be two capital letters with a dot separating them.\n",
    "\n",
    "It should look like this:\n",
    "\n",
    "Sam Harris => S.H\n",
    "\n",
    "patrick feeney => P.F\n",
    "\n",
    "## Solution:\n",
    "```python\n",
    "def abbrev_name(name):\n",
    "    return \".\".join([w[0].upper() for w in name.split()])\n",
    "```"
   ]
  }
 ],
 "metadata": {
  "kernelspec": {
   "display_name": "Python 3 (ipykernel)",
   "language": "python",
   "name": "python3"
  },
  "language_info": {
   "codemirror_mode": {
    "name": "ipython",
    "version": 3
   },
   "file_extension": ".py",
   "mimetype": "text/x-python",
   "name": "python",
   "nbconvert_exporter": "python",
   "pygments_lexer": "ipython3",
   "version": "3.9.12"
  }
 },
 "nbformat": 4,
 "nbformat_minor": 5
}
