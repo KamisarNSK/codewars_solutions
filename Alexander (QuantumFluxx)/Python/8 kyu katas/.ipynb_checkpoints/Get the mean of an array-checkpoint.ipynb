{
 "cells": [
  {
   "cell_type": "markdown",
   "id": "15da3bdd",
   "metadata": {},
   "source": [
    "## DESCRIPTION:\n",
    "It's the academic year's end, fateful moment of your school report. The averages must be calculated. All the students come to you and entreat you to calculate their average for them. Easy ! You just need to write a script.\n",
    "\n",
    "Return the average of the given array rounded down to its nearest integer.\n",
    "\n",
    "The array will never be empty.\n",
    "\n",
    "## Solution:\n",
    "```python\n",
    "from math import floor\n",
    "def get_average(marks):\n",
    "    return floor(sum(marks)/len(marks))\n",
    "```"
   ]
  }
 ],
 "metadata": {
  "kernelspec": {
   "display_name": "Python 3 (ipykernel)",
   "language": "python",
   "name": "python3"
  },
  "language_info": {
   "codemirror_mode": {
    "name": "ipython",
    "version": 3
   },
   "file_extension": ".py",
   "mimetype": "text/x-python",
   "name": "python",
   "nbconvert_exporter": "python",
   "pygments_lexer": "ipython3",
   "version": "3.9.12"
  }
 },
 "nbformat": 4,
 "nbformat_minor": 5
}
