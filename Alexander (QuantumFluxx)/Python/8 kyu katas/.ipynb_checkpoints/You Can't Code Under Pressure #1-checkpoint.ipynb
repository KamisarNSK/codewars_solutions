{
 "cells": [
  {
   "cell_type": "markdown",
   "id": "97bf4933",
   "metadata": {},
   "source": [
    "## DESCRIPTION:\n",
    "Code as fast as you can! You need to double the integer and return it.\n",
    "\n",
    "## Solution:\n",
    "```python\n",
    "def doubleInteger(i):\n",
    "    return i * 2\n",
    "```"
   ]
  }
 ],
 "metadata": {
  "kernelspec": {
   "display_name": "Python 3 (ipykernel)",
   "language": "python",
   "name": "python3"
  },
  "language_info": {
   "codemirror_mode": {
    "name": "ipython",
    "version": 3
   },
   "file_extension": ".py",
   "mimetype": "text/x-python",
   "name": "python",
   "nbconvert_exporter": "python",
   "pygments_lexer": "ipython3",
   "version": "3.9.12"
  }
 },
 "nbformat": 4,
 "nbformat_minor": 5
}
