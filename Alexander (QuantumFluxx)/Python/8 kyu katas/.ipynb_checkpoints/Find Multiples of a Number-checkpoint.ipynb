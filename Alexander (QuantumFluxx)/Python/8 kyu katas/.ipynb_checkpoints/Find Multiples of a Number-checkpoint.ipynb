{
 "cells": [
  {
   "cell_type": "markdown",
   "id": "483f4840",
   "metadata": {},
   "source": [
    "## DESCRIPTION:\n",
    "In this simple exercise, you will build a program that takes a value, integer , and returns a list of its multiples up to another value, limit . If limit is a multiple of integer, it should be included as well. There will only ever be positive integers passed into the function, not consisting of 0. The limit will always be higher than the base.\n",
    "\n",
    "For example, if the parameters passed are (2, 6), the function should return [2, 4, 6] as 2, 4, and 6 are the multiples of 2 up to 6.\n",
    "\n",
    "If you can, try writing it in only one line of code.\n",
    "\n",
    "## Solution:\n",
    "```python\n",
    "def find_multiples(integer, limit):\n",
    "    return list(range(integer, limit+1, integer))\n",
    "```"
   ]
  }
 ],
 "metadata": {
  "kernelspec": {
   "display_name": "Python 3 (ipykernel)",
   "language": "python",
   "name": "python3"
  },
  "language_info": {
   "codemirror_mode": {
    "name": "ipython",
    "version": 3
   },
   "file_extension": ".py",
   "mimetype": "text/x-python",
   "name": "python",
   "nbconvert_exporter": "python",
   "pygments_lexer": "ipython3",
   "version": "3.9.12"
  }
 },
 "nbformat": 4,
 "nbformat_minor": 5
}
