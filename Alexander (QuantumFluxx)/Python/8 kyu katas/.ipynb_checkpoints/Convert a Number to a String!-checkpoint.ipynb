{
 "cells": [
  {
   "cell_type": "markdown",
   "id": "a1004523",
   "metadata": {},
   "source": [
    "## DESCRIPTION:\n",
    "We need a function that can transform a number (integer) into a string.\n",
    "\n",
    "What ways of achieving this do you know?\n",
    "```\n",
    "Examples (input --> output):\n",
    "123  --> \"123\"\n",
    "999  --> \"999\"\n",
    "-100 --> \"-100\"\n",
    "```\n",
    "\n",
    "## Solution:\n",
    "```python\n",
    "def number_to_string(num):\n",
    "    return str(num)\n",
    "```"
   ]
  }
 ],
 "metadata": {
  "kernelspec": {
   "display_name": "Python 3 (ipykernel)",
   "language": "python",
   "name": "python3"
  },
  "language_info": {
   "codemirror_mode": {
    "name": "ipython",
    "version": 3
   },
   "file_extension": ".py",
   "mimetype": "text/x-python",
   "name": "python",
   "nbconvert_exporter": "python",
   "pygments_lexer": "ipython3",
   "version": "3.9.12"
  }
 },
 "nbformat": 4,
 "nbformat_minor": 5
}
