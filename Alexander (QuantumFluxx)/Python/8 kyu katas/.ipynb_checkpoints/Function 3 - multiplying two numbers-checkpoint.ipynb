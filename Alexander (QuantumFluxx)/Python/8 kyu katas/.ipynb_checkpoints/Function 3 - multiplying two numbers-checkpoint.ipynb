{
 "cells": [
  {
   "cell_type": "markdown",
   "id": "c7272442",
   "metadata": {},
   "source": [
    "## DESCRIPTION:\n",
    "Implement a function which multiplies two numbers.\n",
    "\n",
    "## Solution:\n",
    "```python\n",
    "def multiply(a, b):\n",
    "    return a*b\n",
    "```"
   ]
  }
 ],
 "metadata": {
  "kernelspec": {
   "display_name": "Python 3 (ipykernel)",
   "language": "python",
   "name": "python3"
  },
  "language_info": {
   "codemirror_mode": {
    "name": "ipython",
    "version": 3
   },
   "file_extension": ".py",
   "mimetype": "text/x-python",
   "name": "python",
   "nbconvert_exporter": "python",
   "pygments_lexer": "ipython3",
   "version": "3.9.12"
  }
 },
 "nbformat": 4,
 "nbformat_minor": 5
}
