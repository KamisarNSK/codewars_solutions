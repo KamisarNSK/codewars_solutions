{
 "cells": [
  {
   "cell_type": "markdown",
   "id": "b01ebe4a",
   "metadata": {},
   "source": [
    "## DESCRIPTION:\n",
    "Your coworker was supposed to write a simple helper function to capitalize a string (that contains a single word) before they went on vacation.\n",
    "\n",
    "Unfortunately, they have now left and the code they gave you doesn't work. Fix the helper function they wrote so that it works as intended (i.e. make the first character in the string \"word\" upper case).\n",
    "\n",
    "Don't worry about numbers, special characters, or non-string types being passed to the function. The string lengths will be from 1 character up to 10 characters, but will never be empty.\n",
    "\n",
    "## Solution:\n",
    "```python\n",
    "def capitalize_word(word):\n",
    "    word  = word.capitalize()\n",
    "    return \"\".join(char for char in word)\n",
    "```"
   ]
  }
 ],
 "metadata": {
  "kernelspec": {
   "display_name": "Python 3 (ipykernel)",
   "language": "python",
   "name": "python3"
  },
  "language_info": {
   "codemirror_mode": {
    "name": "ipython",
    "version": 3
   },
   "file_extension": ".py",
   "mimetype": "text/x-python",
   "name": "python",
   "nbconvert_exporter": "python",
   "pygments_lexer": "ipython3",
   "version": "3.9.12"
  }
 },
 "nbformat": 4,
 "nbformat_minor": 5
}
