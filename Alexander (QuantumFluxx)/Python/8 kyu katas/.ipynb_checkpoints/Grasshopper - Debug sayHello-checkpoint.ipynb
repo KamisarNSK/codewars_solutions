{
 "cells": [
  {
   "cell_type": "markdown",
   "id": "27ff9a40",
   "metadata": {},
   "source": [
    "## DESCRIPTION:\n",
    "Debugging sayHello function\n",
    "The starship Enterprise has run into some problem when creating a program to greet everyone as they come aboard. It is your job to fix the code and get the program working again!\n",
    "```\n",
    "Example output:\n",
    "Hello, Mr. Spock\n",
    "```\n",
    "\n",
    "## Solution:\n",
    "```python\n",
    "def say_hello(name):\n",
    "    return f\"Hello, {name}\"\n",
    "```"
   ]
  }
 ],
 "metadata": {
  "kernelspec": {
   "display_name": "Python 3 (ipykernel)",
   "language": "python",
   "name": "python3"
  },
  "language_info": {
   "codemirror_mode": {
    "name": "ipython",
    "version": 3
   },
   "file_extension": ".py",
   "mimetype": "text/x-python",
   "name": "python",
   "nbconvert_exporter": "python",
   "pygments_lexer": "ipython3",
   "version": "3.9.12"
  }
 },
 "nbformat": 4,
 "nbformat_minor": 5
}
