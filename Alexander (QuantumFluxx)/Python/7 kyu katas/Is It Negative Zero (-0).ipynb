{
 "cells": [
  {
   "cell_type": "markdown",
   "id": "27486193",
   "metadata": {},
   "source": [
    "## DESCRIPTION:\n",
    "There exist two zeroes: +0 (or just 0) and -0.\n",
    "\n",
    "Write a function that returns true if the input number is -0 and false otherwise (True and False for Python).\n",
    "\n",
    "## Solution:\n",
    "```python\n",
    "import math\n",
    "def is_negative_zero(n):\n",
    "    return True if n == 0 and math.copysign(1, n) == -1 else False\n",
    "```"
   ]
  }
 ],
 "metadata": {
  "kernelspec": {
   "display_name": "Python 3 (ipykernel)",
   "language": "python",
   "name": "python3"
  },
  "language_info": {
   "codemirror_mode": {
    "name": "ipython",
    "version": 3
   },
   "file_extension": ".py",
   "mimetype": "text/x-python",
   "name": "python",
   "nbconvert_exporter": "python",
   "pygments_lexer": "ipython3",
   "version": "3.9.12"
  }
 },
 "nbformat": 4,
 "nbformat_minor": 5
}
