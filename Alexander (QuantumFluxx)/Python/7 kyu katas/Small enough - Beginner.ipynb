{
 "cells": [
  {
   "cell_type": "markdown",
   "id": "d433a63f",
   "metadata": {},
   "source": [
    "## You will be given an array and a limit value. You must check that all values in the array are below or equal to the limit value. If they are, return true. Else, return false.\n",
    "\n",
    "You can assume all values in the array are numbers.\n",
    "\n",
    "## Solution:\n",
    "```python\n",
    "def small_enough(array, limit):\n",
    "    return True if max(array)<=int(limit) else False\n",
    "```"
   ]
  }
 ],
 "metadata": {
  "kernelspec": {
   "display_name": "Python 3 (ipykernel)",
   "language": "python",
   "name": "python3"
  },
  "language_info": {
   "codemirror_mode": {
    "name": "ipython",
    "version": 3
   },
   "file_extension": ".py",
   "mimetype": "text/x-python",
   "name": "python",
   "nbconvert_exporter": "python",
   "pygments_lexer": "ipython3",
   "version": "3.9.12"
  }
 },
 "nbformat": 4,
 "nbformat_minor": 5
}
