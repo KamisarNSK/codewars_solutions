{
 "cells": [
  {
   "cell_type": "markdown",
   "id": "ec254da3",
   "metadata": {},
   "source": [
    "## DESCRIPTION:\n",
    "Jaden Smith, the son of Will Smith, is the star of films such as The Karate Kid (2010) and After Earth (2013). Jaden is also known for some of his philosophy that he delivers via Twitter. When writing on Twitter, he is known for almost always capitalizing every word. For simplicity, you'll have to capitalize each word, check out how contractions are expected to be in the example below.\n",
    "\n",
    "Your task is to convert strings to how they would be written by Jaden Smith. The strings are actual quotes from Jaden Smith, but they are not capitalized in the same way he originally typed them.\n",
    "\n",
    "Example:\n",
    "```\n",
    "Not Jaden-Cased: \"How can mirrors be real if our eyes aren't real\"\n",
    "Jaden-Cased:     \"How Can Mirrors Be Real If Our Eyes Aren't Real\"\n",
    "```\n",
    "\n",
    "## Solution:\n",
    "```python\n",
    "def to_jaden_case(string):\n",
    "    return ' '.join(word.capitalize() for word in string.split())\n",
    "```"
   ]
  }
 ],
 "metadata": {
  "kernelspec": {
   "display_name": "Python 3 (ipykernel)",
   "language": "python",
   "name": "python3"
  },
  "language_info": {
   "codemirror_mode": {
    "name": "ipython",
    "version": 3
   },
   "file_extension": ".py",
   "mimetype": "text/x-python",
   "name": "python",
   "nbconvert_exporter": "python",
   "pygments_lexer": "ipython3",
   "version": "3.9.12"
  }
 },
 "nbformat": 4,
 "nbformat_minor": 5
}
