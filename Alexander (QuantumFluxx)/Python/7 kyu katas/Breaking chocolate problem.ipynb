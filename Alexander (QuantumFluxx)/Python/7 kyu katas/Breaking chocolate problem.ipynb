{
 "cells": [
  {
   "cell_type": "markdown",
   "id": "a2fce89f",
   "metadata": {},
   "source": [
    "## DESCRIPTION:\n",
    "Your task is to split the chocolate bar of given dimension n x m into small squares. Each square is of size 1x1 and unbreakable. Implement a function that will return minimum number of breaks needed.\n",
    "\n",
    "For example if you are given a chocolate bar of size 2 x 1 you can split it to single squares in just one break, but for size 3 x 1 you must do two breaks.\n",
    "\n",
    "If input data is invalid you should return 0 (as in no breaks are needed if we do not have any chocolate to split). Input will always be a non-negative integer.\n",
    "\n",
    "## Solution:\n",
    "```python\n",
    "def breakChocolate(n, m):\n",
    "    return 0 if n*m==0 else n*m-1\n",
    "```"
   ]
  }
 ],
 "metadata": {
  "kernelspec": {
   "display_name": "Python 3 (ipykernel)",
   "language": "python",
   "name": "python3"
  },
  "language_info": {
   "codemirror_mode": {
    "name": "ipython",
    "version": 3
   },
   "file_extension": ".py",
   "mimetype": "text/x-python",
   "name": "python",
   "nbconvert_exporter": "python",
   "pygments_lexer": "ipython3",
   "version": "3.9.12"
  }
 },
 "nbformat": 4,
 "nbformat_minor": 5
}
