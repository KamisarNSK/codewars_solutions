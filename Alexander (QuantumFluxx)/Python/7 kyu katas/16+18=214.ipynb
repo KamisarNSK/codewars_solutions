{
 "cells": [
  {
   "cell_type": "markdown",
   "id": "0f58bec5",
   "metadata": {},
   "source": [
    "## DESCRIPTION:\n",
    "For this kata you will have to forget how to add two numbers.\n",
    "In simple terms, our method does not like the principle of carrying over numbers and just writes down every number it calculates :-)\n",
    "\n",
    "You may assume both integers are positive integers.\n",
    "\n",
    "## Solution:\n",
    "```python\n",
    "def add(num1, num2):\n",
    "    num1, num2 = str(num1), str(num2)\n",
    "    padding = len(num1) if len(num1) > len(num2) else len(num2)\n",
    "    num1, num2 = num1.zfill(padding), num2.zfill(padding)\n",
    "    num1, num2 = num1[::-1], num2[::-1]\n",
    "    return int(''.join([str(int(i) + int(j)) for i, j in zip(num1, num2)][::-1]))\n",
    "```"
   ]
  }
 ],
 "metadata": {
  "kernelspec": {
   "display_name": "Python 3 (ipykernel)",
   "language": "python",
   "name": "python3"
  },
  "language_info": {
   "codemirror_mode": {
    "name": "ipython",
    "version": 3
   },
   "file_extension": ".py",
   "mimetype": "text/x-python",
   "name": "python",
   "nbconvert_exporter": "python",
   "pygments_lexer": "ipython3",
   "version": "3.9.12"
  }
 },
 "nbformat": 4,
 "nbformat_minor": 5
}
