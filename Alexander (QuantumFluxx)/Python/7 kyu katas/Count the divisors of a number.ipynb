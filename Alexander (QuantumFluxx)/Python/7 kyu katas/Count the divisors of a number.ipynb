{
 "cells": [
  {
   "cell_type": "markdown",
   "id": "427be2bb",
   "metadata": {},
   "source": [
    "## DESCRIPTION:\n",
    "Count the number of divisors of a positive integer n.\n",
    "\n",
    "Random tests go up to n = 500000.\n",
    "```\n",
    "Examples (input --> output)\n",
    "4 --> 3 (1, 2, 4)\n",
    "5 --> 2 (1, 5)\n",
    "12 --> 6 (1, 2, 3, 4, 6, 12)\n",
    "30 --> 8 (1, 2, 3, 5, 6, 10, 15, 30)\n",
    "```\n",
    "\n",
    "## Solution:\n",
    "```python\n",
    "def divisors(n):\n",
    "    return sum(1 for i in xrange(1, n + 1) if n % i == 0)\n",
    "```"
   ]
  }
 ],
 "metadata": {
  "kernelspec": {
   "display_name": "Python 3 (ipykernel)",
   "language": "python",
   "name": "python3"
  },
  "language_info": {
   "codemirror_mode": {
    "name": "ipython",
    "version": 3
   },
   "file_extension": ".py",
   "mimetype": "text/x-python",
   "name": "python",
   "nbconvert_exporter": "python",
   "pygments_lexer": "ipython3",
   "version": "3.9.12"
  }
 },
 "nbformat": 4,
 "nbformat_minor": 5
}
