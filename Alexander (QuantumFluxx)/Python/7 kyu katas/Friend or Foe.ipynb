{
 "cells": [
  {
   "cell_type": "markdown",
   "id": "93566469",
   "metadata": {},
   "source": [
    "## DESCRIPTION:\n",
    "Make a program that filters a list of strings and returns a list with only your friends name in it.\n",
    "\n",
    "If a name has exactly 4 letters in it, you can be sure that it has to be a friend of yours! Otherwise, you can be sure he's not...\n",
    "```\n",
    "Ex: Input = [\"Ryan\", \"Kieran\", \"Jason\", \"Yous\"], Output = [\"Ryan\", \"Yous\"]\n",
    "```\n",
    "i.e.\n",
    "```\n",
    "friend [\"Ryan\", \"Kieran\", \"Mark\"] `shouldBe` [\"Ryan\", \"Mark\"]\n",
    "```\n",
    "Note: keep the original order of the names in the output.\n",
    "\n",
    "## Solution:\n",
    "```python\n",
    "def friend(x):\n",
    "    return [n for n in x if len(n) == 4]\n",
    "```"
   ]
  }
 ],
 "metadata": {
  "kernelspec": {
   "display_name": "Python 3 (ipykernel)",
   "language": "python",
   "name": "python3"
  },
  "language_info": {
   "codemirror_mode": {
    "name": "ipython",
    "version": 3
   },
   "file_extension": ".py",
   "mimetype": "text/x-python",
   "name": "python",
   "nbconvert_exporter": "python",
   "pygments_lexer": "ipython3",
   "version": "3.9.12"
  }
 },
 "nbformat": 4,
 "nbformat_minor": 5
}
