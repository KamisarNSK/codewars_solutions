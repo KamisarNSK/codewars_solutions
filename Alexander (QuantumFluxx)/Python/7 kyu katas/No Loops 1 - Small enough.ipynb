{
 "cells": [
  {
   "cell_type": "markdown",
   "id": "a3271bd2",
   "metadata": {},
   "source": [
    "## DESCRIPTION:\n",
    "*** No Loops Allowed ***\n",
    "\n",
    "You will be given an array (a) and a limit value (limit). You must check that all values in the array are below or equal to the limit value. If they are, return true. Else, return false.\n",
    "\n",
    "You can assume all values in the array are numbers.\n",
    "\n",
    "Do not use loops. Do not modify input array.\n",
    "\n",
    "## Solution:\n",
    "```python\n",
    "def small_enough(a, limit): \n",
    "    return max(a) <= limit\n",
    "```"
   ]
  }
 ],
 "metadata": {
  "kernelspec": {
   "display_name": "Python 3 (ipykernel)",
   "language": "python",
   "name": "python3"
  },
  "language_info": {
   "codemirror_mode": {
    "name": "ipython",
    "version": 3
   },
   "file_extension": ".py",
   "mimetype": "text/x-python",
   "name": "python",
   "nbconvert_exporter": "python",
   "pygments_lexer": "ipython3",
   "version": "3.9.12"
  }
 },
 "nbformat": 4,
 "nbformat_minor": 5
}
