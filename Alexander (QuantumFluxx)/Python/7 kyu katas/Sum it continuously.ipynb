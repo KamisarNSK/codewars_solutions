{
 "cells": [
  {
   "cell_type": "markdown",
   "id": "383d34c6",
   "metadata": {},
   "source": [
    "## DESCRIPTION:\n",
    "Make a function \"add\" that will be able to sum elements of list continuously and return a new list of sums.\n",
    "\n",
    "For example:\n",
    "```\n",
    "add [1,2,3,4,5] == [1, 3, 6, 10, 15], because it's calculated like \n",
    "this : [1, 1 + 2, 1 + 2 + 3, 1 + 2 + 3 + 4, 1 + 2 + 3 + 4 + 5]\n",
    "```\n",
    "If you want to learn more see https://en.wikipedia.org/wiki/Prefix_sum\n",
    "\n",
    "## Solution:\n",
    "```python\n",
    "def add(l):\n",
    "    return [sum(l[:i+1]) for i in range(len(l))]\n",
    "```"
   ]
  }
 ],
 "metadata": {
  "kernelspec": {
   "display_name": "Python 3 (ipykernel)",
   "language": "python",
   "name": "python3"
  },
  "language_info": {
   "codemirror_mode": {
    "name": "ipython",
    "version": 3
   },
   "file_extension": ".py",
   "mimetype": "text/x-python",
   "name": "python",
   "nbconvert_exporter": "python",
   "pygments_lexer": "ipython3",
   "version": "3.9.12"
  }
 },
 "nbformat": 4,
 "nbformat_minor": 5
}
