{
 "cells": [
  {
   "cell_type": "markdown",
   "id": "ea6dd29c",
   "metadata": {},
   "source": [
    "## My grandfather always predicted how old people would get, and right before he passed away he revealed his secret!\n",
    "\n",
    "In honor of my grandfather's memory we will write a function using his formula!\n",
    "\n",
    "Take a list of ages when each of your great-grandparent died.\n",
    "Multiply each number by itself.\n",
    "Add them all together.\n",
    "Take the square root of the result.\n",
    "Divide by two.\n",
    "Example\n",
    "```\n",
    "predict_age(65, 60, 75, 55, 60, 63, 64, 45) == 86\n",
    "```\n",
    "Note: the result should be rounded down to the nearest integer.\n",
    "\n",
    "## Solution:\n",
    "```python\n",
    "def predict_age(*age):\n",
    "    return sum(a*a for a in age)**0.5//2\n",
    "```"
   ]
  }
 ],
 "metadata": {
  "kernelspec": {
   "display_name": "Python 3 (ipykernel)",
   "language": "python",
   "name": "python3"
  },
  "language_info": {
   "codemirror_mode": {
    "name": "ipython",
    "version": 3
   },
   "file_extension": ".py",
   "mimetype": "text/x-python",
   "name": "python",
   "nbconvert_exporter": "python",
   "pygments_lexer": "ipython3",
   "version": "3.9.12"
  }
 },
 "nbformat": 4,
 "nbformat_minor": 5
}
