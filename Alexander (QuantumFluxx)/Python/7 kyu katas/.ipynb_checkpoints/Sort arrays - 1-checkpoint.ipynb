{
 "cells": [
  {
   "cell_type": "markdown",
   "id": "1bb531cd",
   "metadata": {},
   "source": [
    "## DESCRIPTION:\n",
    "Just a simple sorting usage. Create a function that returns the elements of the input-array / list sorted in lexicographical order.\n",
    "\n",
    "## Solution:\n",
    "```python\n",
    "def sortme(names):\n",
    "    return sorted(names)\n",
    "```"
   ]
  }
 ],
 "metadata": {
  "kernelspec": {
   "display_name": "Python 3 (ipykernel)",
   "language": "python",
   "name": "python3"
  },
  "language_info": {
   "codemirror_mode": {
    "name": "ipython",
    "version": 3
   },
   "file_extension": ".py",
   "mimetype": "text/x-python",
   "name": "python",
   "nbconvert_exporter": "python",
   "pygments_lexer": "ipython3",
   "version": "3.9.12"
  }
 },
 "nbformat": 4,
 "nbformat_minor": 5
}
