{
 "cells": [
  {
   "cell_type": "markdown",
   "id": "cbf60f3c",
   "metadata": {},
   "source": [
    "## DESCRIPTION:\n",
    "Your goal in this kata is to implement a difference function, which subtracts one list from another and returns the result.\n",
    "\n",
    "It should remove all values from list a, which are present in list b keeping their order.\n",
    "```\n",
    "array_diff([1,2],[1]) == [2]\n",
    "```\n",
    "If a value is present in b, all of its occurrences must be removed from the other:\n",
    "```\n",
    "array_diff([1,2,2,2,3],[2]) == [1,3]\n",
    "```\n",
    "\n",
    "## Solution:\n",
    "```python\n",
    "def array_diff(a, b):\n",
    "    return [x for x in a if x not in b]\n",
    "```"
   ]
  }
 ],
 "metadata": {
  "kernelspec": {
   "display_name": "Python 3 (ipykernel)",
   "language": "python",
   "name": "python3"
  },
  "language_info": {
   "codemirror_mode": {
    "name": "ipython",
    "version": 3
   },
   "file_extension": ".py",
   "mimetype": "text/x-python",
   "name": "python",
   "nbconvert_exporter": "python",
   "pygments_lexer": "ipython3",
   "version": "3.9.12"
  }
 },
 "nbformat": 4,
 "nbformat_minor": 5
}
