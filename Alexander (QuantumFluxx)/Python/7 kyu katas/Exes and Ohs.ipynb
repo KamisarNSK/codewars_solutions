{
 "cells": [
  {
   "cell_type": "markdown",
   "id": "45228e23",
   "metadata": {},
   "source": [
    "## DESCRIPTION:\n",
    "Check to see if a string has the same amount of 'x's and 'o's. The method must return a boolean and be case insensitive. The string can contain any char.\n",
    "\n",
    "Examples input/output:\n",
    "```\n",
    "XO(\"ooxx\") => true\n",
    "XO(\"xooxx\") => false\n",
    "XO(\"ooxXm\") => true\n",
    "XO(\"zpzpzpp\") => true // when no 'x' and 'o' is present should return true\n",
    "XO(\"zzoo\") => false\n",
    "```\n",
    "\n",
    "## Solution:\n",
    "```python\n",
    "def xo(s):\n",
    "    return s.lower().count('x') == s.lower().count('o')\n",
    "```"
   ]
  }
 ],
 "metadata": {
  "kernelspec": {
   "display_name": "Python 3 (ipykernel)",
   "language": "python",
   "name": "python3"
  },
  "language_info": {
   "codemirror_mode": {
    "name": "ipython",
    "version": 3
   },
   "file_extension": ".py",
   "mimetype": "text/x-python",
   "name": "python",
   "nbconvert_exporter": "python",
   "pygments_lexer": "ipython3",
   "version": "3.9.12"
  }
 },
 "nbformat": 4,
 "nbformat_minor": 5
}
