{
 "cells": [
  {
   "cell_type": "markdown",
   "id": "58d04db8",
   "metadata": {},
   "source": [
    "## DESCRIPTION:\n",
    "In this kata you have to write a simple Morse code decoder. While the Morse code is now mostly superseded by voice and digital data communication channels, it still has its use in some applications around the world.\n",
    "The Morse code encodes every character as a sequence of \"dots\" and \"dashes\". For example, the letter A is coded as ·−, letter Q is coded as −−·−, and digit 1 is coded as ·−−−−. The Morse code is case-insensitive, traditionally capital letters are used. When the message is written in Morse code, a single space is used to separate the character codes and 3 spaces are used to separate words. For example, the message HEY JUDE in Morse code is ···· · −·−−   ·−−− ··− −·· ·.\n",
    "\n",
    "NOTE: Extra spaces before or after the code have no meaning and should be ignored.\n",
    "\n",
    "In addition to letters, digits and some punctuation, there are some special service codes, the most notorious of those is the international distress signal SOS (that was first issued by Titanic), that is coded as ···−−−···. These special codes are treated as single special characters, and usually are transmitted as separate words.\n",
    "\n",
    "Your task is to implement a function that would take the morse code as input and return a decoded human-readable string.\n",
    "\n",
    "For example:\n",
    "```\n",
    "decode_morse('.... . -.--   .--- ..- -.. .')\n",
    "#should return \"HEY JUDE\"\n",
    "NOTE: For coding purposes you have to use ASCII characters . and -, not Unicode characters.\n",
    "```\n",
    "\n",
    "## Solution:\n",
    "```python\n",
    "def decodeMorse(morse_code):\n",
    "    message = \"\".join([MORSE_CODE[i] if i in MORSE_CODE else \" \" for i in morse_code.split(\" \")])\n",
    "    return message.replace(\"  \", \" \").strip()\n",
    "```"
   ]
  }
 ],
 "metadata": {
  "kernelspec": {
   "display_name": "Python 3 (ipykernel)",
   "language": "python",
   "name": "python3"
  },
  "language_info": {
   "codemirror_mode": {
    "name": "ipython",
    "version": 3
   },
   "file_extension": ".py",
   "mimetype": "text/x-python",
   "name": "python",
   "nbconvert_exporter": "python",
   "pygments_lexer": "ipython3",
   "version": "3.9.12"
  }
 },
 "nbformat": 4,
 "nbformat_minor": 5
}
