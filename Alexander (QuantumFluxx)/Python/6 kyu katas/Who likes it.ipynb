{
 "cells": [
  {
   "cell_type": "markdown",
   "id": "6f838531",
   "metadata": {},
   "source": [
    "## DESCRIPTION:\n",
    "You probably know the \"like\" system from Facebook and other pages. People can \"like\" blog posts, pictures or other items. We want to create the text that should be displayed next to such an item.\n",
    "\n",
    "Implement the function which takes an array containing the names of people that like an item. It must return the display text as shown in the examples:\n",
    "```\n",
    "[]                                -->  \"no one likes this\"\n",
    "[\"Peter\"]                         -->  \"Peter likes this\"\n",
    "[\"Jacob\", \"Alex\"]                 -->  \"Jacob and Alex like this\"\n",
    "[\"Max\", \"John\", \"Mark\"]           -->  \"Max, John and Mark like this\"\n",
    "[\"Alex\", \"Jacob\", \"Mark\", \"Max\"]  -->  \"Alex, Jacob and 2 others like this\"\n",
    "```\n",
    "\n",
    "## Solution:\n",
    "```python\n",
    "def likes(names):\n",
    "    l = len(names)\n",
    "    if l == 0: return 'no one likes this'\n",
    "    if l == 1: return '{} likes this'.format(names[0])\n",
    "    if l == 2: return '{} and {} like this'.format(names[0], names[1])\n",
    "    if l == 3: return '{}, {} and {} like this'.format(names[0], names[1], names[2])\n",
    "    return '{}, {} and {} others like this'.format(names[0], names[1], len(names)-2)\n",
    "```"
   ]
  }
 ],
 "metadata": {
  "kernelspec": {
   "display_name": "Python 3 (ipykernel)",
   "language": "python",
   "name": "python3"
  },
  "language_info": {
   "codemirror_mode": {
    "name": "ipython",
    "version": 3
   },
   "file_extension": ".py",
   "mimetype": "text/x-python",
   "name": "python",
   "nbconvert_exporter": "python",
   "pygments_lexer": "ipython3",
   "version": "3.9.12"
  }
 },
 "nbformat": 4,
 "nbformat_minor": 5
}
