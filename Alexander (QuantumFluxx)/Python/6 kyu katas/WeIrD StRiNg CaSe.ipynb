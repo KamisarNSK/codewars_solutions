{
 "cells": [
  {
   "cell_type": "markdown",
   "id": "97a515b8",
   "metadata": {},
   "source": [
    "## Write a function toWeirdCase (weirdcase in Ruby) that accepts a string, and returns the same string with all even indexed characters in each word upper cased, and all odd indexed characters in each word lower cased. The indexing just explained is zero based, so the zero-ith index is even, therefore that character should be upper cased and you need to start over for each word.\n",
    "\n",
    "The passed in string will only consist of alphabetical characters and spaces(' '). Spaces will only be present if there are multiple words. Words will be separated by a single space(' ').\n",
    "```\n",
    "Examples:\n",
    "to_weird_case('String'); # => returns 'StRiNg'\n",
    "to_weird_case('Weird string case') # => returns 'WeIrD StRiNg CaSe'\n",
    "```\n",
    "## Solution:\n",
    "```python\n",
    "def to_weird_case(string):\n",
    "    i = 0\n",
    "    result = ''\n",
    "    for c in string:\n",
    "        if(i%2==0):\n",
    "            result += c.upper()\n",
    "        else:\n",
    "            result += c.lower()\n",
    "\n",
    "        if(c==' '):  \n",
    "            i=0\n",
    "        else:\n",
    "            i+=1\n",
    "\n",
    "    return result\n",
    "```"
   ]
  }
 ],
 "metadata": {
  "kernelspec": {
   "display_name": "Python 3 (ipykernel)",
   "language": "python",
   "name": "python3"
  },
  "language_info": {
   "codemirror_mode": {
    "name": "ipython",
    "version": 3
   },
   "file_extension": ".py",
   "mimetype": "text/x-python",
   "name": "python",
   "nbconvert_exporter": "python",
   "pygments_lexer": "ipython3",
   "version": "3.9.12"
  }
 },
 "nbformat": 4,
 "nbformat_minor": 5
}
