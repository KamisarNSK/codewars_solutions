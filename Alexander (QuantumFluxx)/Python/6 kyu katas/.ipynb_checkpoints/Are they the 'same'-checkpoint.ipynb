{
 "cells": [
  {
   "cell_type": "markdown",
   "id": "7763179e",
   "metadata": {},
   "source": [
    "## DESCRIPTION:\n",
    "Given two arrays a and b write a function comp(a, b) (orcompSame(a, b)) that checks whether the two arrays have the \"same\" elements, with the same multiplicities (the multiplicity of a member is the number of times it appears). \"Same\" means, here, that the elements in b are the elements in a squared, regardless of the order.\n",
    "```\n",
    "Examples\n",
    "Valid arrays\n",
    "a = [121, 144, 19, 161, 19, 144, 19, 11]  \n",
    "b = [121, 14641, 20736, 361, 25921, 361, 20736, 361]\n",
    "comp(a, b) returns true because in b 121 is the square of 11, 14641 is the square of 121, 20736 the square of 144, 361 the square of 19, 25921 the square of 161, and so on. It gets obvious if we write b's elements in terms of squares:\n",
    "\n",
    "a = [121, 144, 19, 161, 19, 144, 19, 11] \n",
    "b = [11*11, 121*121, 144*144, 19*19, 161*161, 19*19, 144*144, 19*19]\n",
    "Invalid arrays\n",
    "If, for example, we change the first number to something else, comp is not returning true anymore:\n",
    "\n",
    "a = [121, 144, 19, 161, 19, 144, 19, 11]  \n",
    "b = [132, 14641, 20736, 361, 25921, 361, 20736, 361]\n",
    "comp(a,b) returns false because in b 132 is not the square of any number of a.\n",
    "\n",
    "a = [121, 144, 19, 161, 19, 144, 19, 11]  \n",
    "b = [121, 14641, 20736, 36100, 25921, 361, 20736, 361]\n",
    "comp(a,b) returns false because in b 36100 is not the square of any number of a.\n",
    "```\n",
    "\n",
    "## Solution:\n",
    "```python\n",
    "def comp(array1, array2):\n",
    "    if array1 is None or array2 is None:\n",
    "        return False\n",
    "    return sorted([num**2 for num in array1]) == sorted(array2)\n",
    "```"
   ]
  }
 ],
 "metadata": {
  "kernelspec": {
   "display_name": "Python 3 (ipykernel)",
   "language": "python",
   "name": "python3"
  },
  "language_info": {
   "codemirror_mode": {
    "name": "ipython",
    "version": 3
   },
   "file_extension": ".py",
   "mimetype": "text/x-python",
   "name": "python",
   "nbconvert_exporter": "python",
   "pygments_lexer": "ipython3",
   "version": "3.9.12"
  }
 },
 "nbformat": 4,
 "nbformat_minor": 5
}
