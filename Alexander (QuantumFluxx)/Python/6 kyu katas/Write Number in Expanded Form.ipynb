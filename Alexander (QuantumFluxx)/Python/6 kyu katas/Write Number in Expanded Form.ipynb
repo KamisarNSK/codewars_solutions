{
 "cells": [
  {
   "cell_type": "markdown",
   "id": "fc3d341b",
   "metadata": {},
   "source": [
    "## DESCRIPTION:\n",
    "Write Number in Expanded Form\n",
    "You will be given a number and you will need to return it as a string in Expanded Form. For example:\n",
    "```\n",
    "expanded_form(12) # Should return '10 + 2'\n",
    "expanded_form(42) # Should return '40 + 2'\n",
    "expanded_form(70304) # Should return '70000 + 300 + 4'\n",
    "```\n",
    "NOTE: All numbers will be whole numbers greater than 0.\n",
    "\n",
    "## Solution:\n",
    "```python\n",
    "def expanded_form(num):\n",
    "    s = []\n",
    "    i = len(str(num)) -1\n",
    "    for n in str(num):\n",
    "        if n != \"0\":\n",
    "            s.append(n + \"0\" * i)\n",
    "        i -= 1\n",
    "    return \" + \".join(s)\n",
    "```"
   ]
  }
 ],
 "metadata": {
  "kernelspec": {
   "display_name": "Python 3 (ipykernel)",
   "language": "python",
   "name": "python3"
  },
  "language_info": {
   "codemirror_mode": {
    "name": "ipython",
    "version": 3
   },
   "file_extension": ".py",
   "mimetype": "text/x-python",
   "name": "python",
   "nbconvert_exporter": "python",
   "pygments_lexer": "ipython3",
   "version": "3.9.12"
  }
 },
 "nbformat": 4,
 "nbformat_minor": 5
}
