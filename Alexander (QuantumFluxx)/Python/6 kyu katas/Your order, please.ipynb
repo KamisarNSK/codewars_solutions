{
 "cells": [
  {
   "cell_type": "markdown",
   "id": "52bcb1e5",
   "metadata": {},
   "source": [
    "## DESCRIPTION:\n",
    "Your task is to sort a given string. Each word in the string will contain a single number. This number is the position the word should have in the result.\n",
    "\n",
    "Note: Numbers can be from 1 to 9. So 1 will be the first word (not 0).\n",
    "\n",
    "If the input string is empty, return an empty string. The words in the input String will only contain valid consecutive numbers.\n",
    "```\n",
    "Examples\n",
    "\"is2 Thi1s T4est 3a\"  -->  \"Thi1s is2 3a T4est\"\n",
    "\"4of Fo1r pe6ople g3ood th5e the2\"  -->  \"Fo1r the2 g3ood 4of th5e pe6ople\"\n",
    "\"\"  -->  \"\"\n",
    "```\n",
    "\n",
    "## Solution:\n",
    "```python\n",
    "def order(sentence):\n",
    "    words = []\n",
    "    for i in range(1, 10):\n",
    "        for word in sentence.split(' '):\n",
    "            if str(i) in word:\n",
    "                words.append(word)\n",
    "    return ' '.join(words)\n",
    "```"
   ]
  }
 ],
 "metadata": {
  "kernelspec": {
   "display_name": "Python 3 (ipykernel)",
   "language": "python",
   "name": "python3"
  },
  "language_info": {
   "codemirror_mode": {
    "name": "ipython",
    "version": 3
   },
   "file_extension": ".py",
   "mimetype": "text/x-python",
   "name": "python",
   "nbconvert_exporter": "python",
   "pygments_lexer": "ipython3",
   "version": "3.9.12"
  }
 },
 "nbformat": 4,
 "nbformat_minor": 5
}
