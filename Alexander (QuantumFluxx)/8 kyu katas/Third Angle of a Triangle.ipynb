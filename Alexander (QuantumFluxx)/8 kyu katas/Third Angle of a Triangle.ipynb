{
 "cells": [
  {
   "cell_type": "markdown",
   "id": "b55a603a",
   "metadata": {},
   "source": [
    "## DESCRIPTION:\n",
    "You are given two interior angles (in degrees) of a triangle.\n",
    "\n",
    "Write a function to return the 3rd.\n",
    "\n",
    "Note: only positive integers will be tested.\n",
    "\n",
    "\n",
    "## Solution:\n",
    "```python\n",
    "def other_angle(a, b):\n",
    "    return 180-sum([a,b])\n",
    "```"
   ]
  }
 ],
 "metadata": {
  "kernelspec": {
   "display_name": "Python 3 (ipykernel)",
   "language": "python",
   "name": "python3"
  },
  "language_info": {
   "codemirror_mode": {
    "name": "ipython",
    "version": 3
   },
   "file_extension": ".py",
   "mimetype": "text/x-python",
   "name": "python",
   "nbconvert_exporter": "python",
   "pygments_lexer": "ipython3",
   "version": "3.9.12"
  }
 },
 "nbformat": 4,
 "nbformat_minor": 5
}
