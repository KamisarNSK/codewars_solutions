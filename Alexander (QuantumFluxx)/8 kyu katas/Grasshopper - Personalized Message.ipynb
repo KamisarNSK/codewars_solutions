{
 "cells": [
  {
   "cell_type": "markdown",
   "id": "563c55e7",
   "metadata": {},
   "source": [
    "## DESCRIPTION:\n",
    "Create a function that gives a personalized greeting. This function takes two parameters: name and owner.\n",
    "\n",
    "Use conditionals to return the proper message:\n",
    "```\n",
    "case\treturn\n",
    "name equals owner\t'Hello boss'\n",
    "otherwise\t'Hello guest'\n",
    "```\n",
    "\n",
    "## Solution:\n",
    "```python\n",
    "def greet(name, owner):\n",
    "    return \"Hello boss\" if name==owner else \"Hello guest\"\n",
    "```"
   ]
  }
 ],
 "metadata": {
  "kernelspec": {
   "display_name": "Python 3 (ipykernel)",
   "language": "python",
   "name": "python3"
  },
  "language_info": {
   "codemirror_mode": {
    "name": "ipython",
    "version": 3
   },
   "file_extension": ".py",
   "mimetype": "text/x-python",
   "name": "python",
   "nbconvert_exporter": "python",
   "pygments_lexer": "ipython3",
   "version": "3.9.12"
  }
 },
 "nbformat": 4,
 "nbformat_minor": 5
}
