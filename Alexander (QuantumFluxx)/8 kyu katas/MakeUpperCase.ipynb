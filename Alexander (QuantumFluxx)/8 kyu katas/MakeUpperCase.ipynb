{
 "cells": [
  {
   "cell_type": "markdown",
   "id": "5a10e38d",
   "metadata": {},
   "source": [
    "## DESCRIPTION:\n",
    "Write a function which converts the input string to uppercase.\n",
    "\n",
    "## Solution:\n",
    "```python\n",
    "def make_upper_case(s):\n",
    "    return s.upper()\n",
    "```"
   ]
  }
 ],
 "metadata": {
  "kernelspec": {
   "display_name": "Python 3 (ipykernel)",
   "language": "python",
   "name": "python3"
  },
  "language_info": {
   "codemirror_mode": {
    "name": "ipython",
    "version": 3
   },
   "file_extension": ".py",
   "mimetype": "text/x-python",
   "name": "python",
   "nbconvert_exporter": "python",
   "pygments_lexer": "ipython3",
   "version": "3.9.12"
  }
 },
 "nbformat": 4,
 "nbformat_minor": 5
}
