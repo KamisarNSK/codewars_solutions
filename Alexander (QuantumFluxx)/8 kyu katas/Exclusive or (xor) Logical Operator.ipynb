{
 "cells": [
  {
   "cell_type": "markdown",
   "id": "0d4dbed3",
   "metadata": {},
   "source": [
    "## DESCRIPTION:\n",
    "Exclusive \"or\" (xor) Logical Operator\n",
    "Overview\n",
    "In some scripting languages like PHP, there exists a logical operator (e.g. &&, ||, and, or, etc.) called the \"Exclusive Or\" (hence the name of this Kata). The exclusive or evaluates two booleans. It then returns true if exactly one of the two expressions are true, false otherwise. For example:\n",
    "```\n",
    "false xor false == false // since both are false\n",
    "true xor false == true // exactly one of the two expressions are true\n",
    "false xor true == true // exactly one of the two expressions are true\n",
    "true xor true == false // Both are true.  \"xor\" only returns true if EXACTLY one of the two expressions evaluate to true.\n",
    "```\n",
    "### Task\n",
    "Since we cannot define keywords in Javascript (well, at least I don't know how to do it), your task is to define a function xor(a, b) where a and b are the two expressions to be evaluated. Your xor function should have the behaviour described above, returning true if exactly one of the two expressions evaluate to true, false otherwise.\n",
    "\n",
    "## Solution:\n",
    "```python\n",
    "def xor(a,b):\n",
    "    return a ^ b\n",
    "```"
   ]
  }
 ],
 "metadata": {
  "kernelspec": {
   "display_name": "Python 3 (ipykernel)",
   "language": "python",
   "name": "python3"
  },
  "language_info": {
   "codemirror_mode": {
    "name": "ipython",
    "version": 3
   },
   "file_extension": ".py",
   "mimetype": "text/x-python",
   "name": "python",
   "nbconvert_exporter": "python",
   "pygments_lexer": "ipython3",
   "version": "3.9.12"
  }
 },
 "nbformat": 4,
 "nbformat_minor": 5
}
