{
 "cells": [
  {
   "cell_type": "markdown",
   "id": "6ae25568",
   "metadata": {},
   "source": [
    "## DESCRIPTION:\n",
    "You have an award-winning garden and every day the plants need exactly 40mm of water. You created a great piece of JavaScript to calculate the amount of water your plants will need when you have taken into consideration the amount of rain water that is forecast for the day. Your jealous neighbour hacked your computer and filled your code with bugs.\n",
    "\n",
    "Your task is to debug the code before your plants die!\n",
    "\n",
    "## Solution:\n",
    "```python\n",
    "def rain_amount(mm):\n",
    "    if mm < 40:\n",
    "             return \"You need to give your plant \" + str(40 - mm) + \"mm of water\"\n",
    "    else:\n",
    "             return \"Your plant has had more than enough water for today!\"\n",
    "```"
   ]
  }
 ],
 "metadata": {
  "kernelspec": {
   "display_name": "Python 3 (ipykernel)",
   "language": "python",
   "name": "python3"
  },
  "language_info": {
   "codemirror_mode": {
    "name": "ipython",
    "version": 3
   },
   "file_extension": ".py",
   "mimetype": "text/x-python",
   "name": "python",
   "nbconvert_exporter": "python",
   "pygments_lexer": "ipython3",
   "version": "3.9.12"
  }
 },
 "nbformat": 4,
 "nbformat_minor": 5
}
