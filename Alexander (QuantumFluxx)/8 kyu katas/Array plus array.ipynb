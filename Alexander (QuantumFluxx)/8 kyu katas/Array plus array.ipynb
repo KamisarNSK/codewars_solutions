{
 "cells": [
  {
   "cell_type": "markdown",
   "id": "51f71a5f",
   "metadata": {},
   "source": [
    "## DESCRIPTION:\n",
    "I'm new to coding and now I want to get the sum of two arrays...actually the sum of all their elements. I'll appreciate for your help.\n",
    "\n",
    "P.S. Each array includes only integer numbers. Output is a number too.\n",
    "\n",
    "## Solution:\n",
    "```python\n",
    "def array_plus_array(arr1,arr2):\n",
    "    return sum(arr1+arr2)\n",
    "```"
   ]
  }
 ],
 "metadata": {
  "kernelspec": {
   "display_name": "Python 3 (ipykernel)",
   "language": "python",
   "name": "python3"
  },
  "language_info": {
   "codemirror_mode": {
    "name": "ipython",
    "version": 3
   },
   "file_extension": ".py",
   "mimetype": "text/x-python",
   "name": "python",
   "nbconvert_exporter": "python",
   "pygments_lexer": "ipython3",
   "version": "3.9.12"
  }
 },
 "nbformat": 4,
 "nbformat_minor": 5
}
