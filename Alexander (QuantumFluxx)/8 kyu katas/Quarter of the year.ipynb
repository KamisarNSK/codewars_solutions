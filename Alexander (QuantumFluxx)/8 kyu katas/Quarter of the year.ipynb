{
 "cells": [
  {
   "cell_type": "markdown",
   "id": "52bd4a80",
   "metadata": {},
   "source": [
    "## DESCRIPTION:\n",
    "Given a month as an integer from 1 to 12, return to which quarter of the year it belongs as an integer number.\n",
    "\n",
    "For example: month 2 (February), is part of the first quarter; month 6 (June), is part of the second quarter; and month 11 (November), is part of the fourth quarter.\n",
    "\n",
    "## Solution:\n",
    "```python\n",
    "def quarter_of(month):\n",
    "    return (month + 2) // 3\n",
    "```"
   ]
  }
 ],
 "metadata": {
  "kernelspec": {
   "display_name": "Python 3 (ipykernel)",
   "language": "python",
   "name": "python3"
  },
  "language_info": {
   "codemirror_mode": {
    "name": "ipython",
    "version": 3
   },
   "file_extension": ".py",
   "mimetype": "text/x-python",
   "name": "python",
   "nbconvert_exporter": "python",
   "pygments_lexer": "ipython3",
   "version": "3.9.12"
  }
 },
 "nbformat": 4,
 "nbformat_minor": 5
}
