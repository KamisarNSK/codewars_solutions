{
 "cells": [
  {
   "cell_type": "markdown",
   "id": "026ce853",
   "metadata": {},
   "source": [
    "## DESCRIPTION:\n",
    "Write a simple regex to validate a username. Allowed characters are:\n",
    "\n",
    "* lowercase letters,\n",
    "* numbers,\n",
    "* underscore\n",
    "\n",
    "Length should be between 4 and 16 characters (both included).\n",
    "\n",
    "## Solution:\n",
    "```python\n",
    "import re\n",
    "def validate_usr(un):\n",
    "    return re.match('^[a-z0-9_]{4,16}$', un) != None\n",
    "```"
   ]
  }
 ],
 "metadata": {
  "kernelspec": {
   "display_name": "Python 3 (ipykernel)",
   "language": "python",
   "name": "python3"
  },
  "language_info": {
   "codemirror_mode": {
    "name": "ipython",
    "version": 3
   },
   "file_extension": ".py",
   "mimetype": "text/x-python",
   "name": "python",
   "nbconvert_exporter": "python",
   "pygments_lexer": "ipython3",
   "version": "3.9.12"
  }
 },
 "nbformat": 4,
 "nbformat_minor": 5
}
