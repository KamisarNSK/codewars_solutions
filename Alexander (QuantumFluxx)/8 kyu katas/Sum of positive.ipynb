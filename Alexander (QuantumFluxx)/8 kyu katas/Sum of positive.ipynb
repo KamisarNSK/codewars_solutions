{
 "cells": [
  {
   "cell_type": "markdown",
   "id": "e6f24d3b",
   "metadata": {},
   "source": [
    "## DESCRIPTION:\n",
    "You get an array of numbers, return the sum of all of the positives ones.\n",
    "\n",
    "Example [1,-4,7,12] => 1 + 7 + 12 = 20\n",
    "\n",
    "Note: if there is nothing to sum, the sum is default to 0.\n",
    "\n",
    "## Solution:\n",
    "```python\n",
    "def positive_sum(arr):\n",
    "    return sum(x for x in arr if x > 0)\n",
    "```"
   ]
  }
 ],
 "metadata": {
  "kernelspec": {
   "display_name": "Python 3 (ipykernel)",
   "language": "python",
   "name": "python3"
  },
  "language_info": {
   "codemirror_mode": {
    "name": "ipython",
    "version": 3
   },
   "file_extension": ".py",
   "mimetype": "text/x-python",
   "name": "python",
   "nbconvert_exporter": "python",
   "pygments_lexer": "ipython3",
   "version": "3.9.12"
  }
 },
 "nbformat": 4,
 "nbformat_minor": 5
}
