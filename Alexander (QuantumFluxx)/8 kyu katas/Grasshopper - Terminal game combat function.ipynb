{
 "cells": [
  {
   "cell_type": "markdown",
   "id": "41db8d61",
   "metadata": {},
   "source": [
    "## DESCRIPTION:\n",
    "Create a combat function that takes the player's current health and the amount of damage recieved, and returns the player's new health. Health can't be less than 0.\n",
    "\n",
    "## Solution:\n",
    "\n",
    "```python\n",
    "def combat(health, damage):\n",
    "    return health - damage if health > damage else 0\n",
    "```"
   ]
  }
 ],
 "metadata": {
  "kernelspec": {
   "display_name": "Python 3 (ipykernel)",
   "language": "python",
   "name": "python3"
  },
  "language_info": {
   "codemirror_mode": {
    "name": "ipython",
    "version": 3
   },
   "file_extension": ".py",
   "mimetype": "text/x-python",
   "name": "python",
   "nbconvert_exporter": "python",
   "pygments_lexer": "ipython3",
   "version": "3.9.12"
  }
 },
 "nbformat": 4,
 "nbformat_minor": 5
}
