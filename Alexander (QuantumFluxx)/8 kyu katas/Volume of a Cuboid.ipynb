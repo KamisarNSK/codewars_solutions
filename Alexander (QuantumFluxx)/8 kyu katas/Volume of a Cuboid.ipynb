{
 "cells": [
  {
   "cell_type": "markdown",
   "id": "04e0cb90",
   "metadata": {},
   "source": [
    "## DESCRIPTION:\n",
    "Bob needs a fast way to calculate the volume of a cuboid with three values: the length, width and height of the cuboid. Write a function to help Bob with this calculation.\n",
    "\n",
    "## Solution:\n",
    "```python\n",
    "def get_volume_of_cuboid(length, width, height):\n",
    "    return length * width * height\n",
    "```"
   ]
  }
 ],
 "metadata": {
  "kernelspec": {
   "display_name": "Python 3 (ipykernel)",
   "language": "python",
   "name": "python3"
  },
  "language_info": {
   "codemirror_mode": {
    "name": "ipython",
    "version": 3
   },
   "file_extension": ".py",
   "mimetype": "text/x-python",
   "name": "python",
   "nbconvert_exporter": "python",
   "pygments_lexer": "ipython3",
   "version": "3.9.12"
  }
 },
 "nbformat": 4,
 "nbformat_minor": 5
}
