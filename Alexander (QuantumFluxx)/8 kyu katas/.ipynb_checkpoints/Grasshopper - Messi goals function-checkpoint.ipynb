{
 "cells": [
  {
   "cell_type": "markdown",
   "id": "f1cf014f",
   "metadata": {},
   "source": [
    "## DESCRIPTION:\n",
    "Messi goals function\n",
    "Messi is a soccer player with goals in three leagues:\n",
    "```\n",
    "LaLiga\n",
    "Copa del Rey\n",
    "Champions\n",
    "```\n",
    "Complete the function to return his total number of goals in all three leagues.\n",
    "\n",
    "Note: the input will always be valid.\n",
    "\n",
    "```\n",
    "For example:\n",
    "5, 10, 2  -->  17\n",
    "```\n",
    "\n",
    "## Solution:\n",
    "```python\n",
    "def goals(laLiga, copaDelRey, championsLeague):\n",
    "    return sum([laLiga, copaDelRey, championsLeague])\n",
    "```"
   ]
  }
 ],
 "metadata": {
  "kernelspec": {
   "display_name": "Python 3 (ipykernel)",
   "language": "python",
   "name": "python3"
  },
  "language_info": {
   "codemirror_mode": {
    "name": "ipython",
    "version": 3
   },
   "file_extension": ".py",
   "mimetype": "text/x-python",
   "name": "python",
   "nbconvert_exporter": "python",
   "pygments_lexer": "ipython3",
   "version": "3.9.12"
  }
 },
 "nbformat": 4,
 "nbformat_minor": 5
}
