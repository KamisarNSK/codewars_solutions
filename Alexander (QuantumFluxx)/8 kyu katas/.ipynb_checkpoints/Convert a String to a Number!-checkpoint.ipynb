{
 "cells": [
  {
   "cell_type": "markdown",
   "id": "7b604741",
   "metadata": {},
   "source": [
    "## DESCRIPTION:\n",
    "Note: This kata is inspired by Convert a Number to a String!. Try that one too.\n",
    "\n",
    "Description\n",
    "We need a function that can transform a string into a number. What ways of achieving this do you know?\n",
    "\n",
    "Note: Don't worry, all inputs will be strings, and every string is a perfectly valid representation of an integral number.\n",
    "```\n",
    "Examples\n",
    "\"1234\" --> 1234\n",
    "\"605\"  --> 605\n",
    "\"1405\" --> 1405\n",
    "\"-7\" --> -7\n",
    "```\n",
    "\n",
    "## Solution:\n",
    "```python\n",
    "def string_to_number(s):\n",
    "    return int(s)\n",
    "```"
   ]
  }
 ],
 "metadata": {
  "kernelspec": {
   "display_name": "Python 3 (ipykernel)",
   "language": "python",
   "name": "python3"
  },
  "language_info": {
   "codemirror_mode": {
    "name": "ipython",
    "version": 3
   },
   "file_extension": ".py",
   "mimetype": "text/x-python",
   "name": "python",
   "nbconvert_exporter": "python",
   "pygments_lexer": "ipython3",
   "version": "3.9.12"
  }
 },
 "nbformat": 4,
 "nbformat_minor": 5
}
