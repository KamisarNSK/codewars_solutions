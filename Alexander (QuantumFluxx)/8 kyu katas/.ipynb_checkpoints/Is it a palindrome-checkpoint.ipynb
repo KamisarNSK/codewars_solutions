{
 "cells": [
  {
   "cell_type": "markdown",
   "id": "deca15ec",
   "metadata": {},
   "source": [
    "## DESCRIPTION:\n",
    "Write a function that checks if a given string (case insensitive) is a palindrome.\n",
    "\n",
    "## Solution:\n",
    "```python\n",
    "def is_palindrome(s):\n",
    "    return s.lower() == s[::-1].lower()\n",
    "```"
   ]
  }
 ],
 "metadata": {
  "kernelspec": {
   "display_name": "Python 3 (ipykernel)",
   "language": "python",
   "name": "python3"
  },
  "language_info": {
   "codemirror_mode": {
    "name": "ipython",
    "version": 3
   },
   "file_extension": ".py",
   "mimetype": "text/x-python",
   "name": "python",
   "nbconvert_exporter": "python",
   "pygments_lexer": "ipython3",
   "version": "3.9.12"
  }
 },
 "nbformat": 4,
 "nbformat_minor": 5
}
