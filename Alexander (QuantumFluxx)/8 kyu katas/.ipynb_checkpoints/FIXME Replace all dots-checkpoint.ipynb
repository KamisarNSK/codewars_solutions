{
 "cells": [
  {
   "cell_type": "markdown",
   "id": "66526506",
   "metadata": {},
   "source": [
    "## DESCRIPTION:\n",
    "The code provided is supposed replace all the dots . in the specified String str with dashes -\n",
    "\n",
    "But it's not working properly.\n",
    "\n",
    "### Task\n",
    "Fix the bug so we can all go home early.\n",
    "\n",
    "Notes\n",
    "String str will never be null.\n",
    "\n",
    "## Solution:\n",
    "```python\n",
    "def replace_dots(str):\n",
    "    return str.replace('.', '-')\n",
    "```"
   ]
  }
 ],
 "metadata": {
  "kernelspec": {
   "display_name": "Python 3 (ipykernel)",
   "language": "python",
   "name": "python3"
  },
  "language_info": {
   "codemirror_mode": {
    "name": "ipython",
    "version": 3
   },
   "file_extension": ".py",
   "mimetype": "text/x-python",
   "name": "python",
   "nbconvert_exporter": "python",
   "pygments_lexer": "ipython3",
   "version": "3.9.12"
  }
 },
 "nbformat": 4,
 "nbformat_minor": 5
}
