{
 "cells": [
  {
   "cell_type": "markdown",
   "id": "655915f7",
   "metadata": {},
   "source": [
    "## DESCRIPTION:\n",
    "There was a test in your class and you passed it. Congratulations!\n",
    "But you're an ambitious person. You want to know if you're better than the average student in your class.\n",
    "\n",
    "You receive an array with your peers' test scores. Now calculate the average and compare your score!\n",
    "\n",
    "Return True if you're better, else False!\n",
    "\n",
    "Note:\n",
    "Your points are not included in the array of your class's points. For calculating the average point you may add your point to the given array!\n",
    "\n",
    "## Solution:\n",
    "```python\n",
    "def better_than_average(class_points, your_points):\n",
    "    return your_points > sum(class_points) / len(class_points)\n",
    "```"
   ]
  }
 ],
 "metadata": {
  "kernelspec": {
   "display_name": "Python 3 (ipykernel)",
   "language": "python",
   "name": "python3"
  },
  "language_info": {
   "codemirror_mode": {
    "name": "ipython",
    "version": 3
   },
   "file_extension": ".py",
   "mimetype": "text/x-python",
   "name": "python",
   "nbconvert_exporter": "python",
   "pygments_lexer": "ipython3",
   "version": "3.9.12"
  }
 },
 "nbformat": 4,
 "nbformat_minor": 5
}
