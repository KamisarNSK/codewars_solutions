{
 "cells": [
  {
   "cell_type": "markdown",
   "id": "82cf025b",
   "metadata": {},
   "source": [
    "## DESCRIPTION:\n",
    "Given an array of integers your solution should find the smallest integer.\n",
    "\n",
    "For example:\n",
    "```\n",
    "Given [34, 15, 88, 2] your solution will return 2\n",
    "Given [34, -345, -1, 100] your solution will return -345\n",
    "```\n",
    "You can assume, for the purpose of this kata, that the supplied array will not be empty.\n",
    "\n",
    "\n",
    "## Solution:\n",
    "```python\n",
    "def find_smallest_int(arr):\n",
    "    return min(arr)\n",
    "```"
   ]
  }
 ],
 "metadata": {
  "kernelspec": {
   "display_name": "Python 3 (ipykernel)",
   "language": "python",
   "name": "python3"
  },
  "language_info": {
   "codemirror_mode": {
    "name": "ipython",
    "version": 3
   },
   "file_extension": ".py",
   "mimetype": "text/x-python",
   "name": "python",
   "nbconvert_exporter": "python",
   "pygments_lexer": "ipython3",
   "version": "3.9.12"
  }
 },
 "nbformat": 4,
 "nbformat_minor": 5
}
