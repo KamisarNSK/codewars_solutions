{
 "cells": [
  {
   "cell_type": "markdown",
   "id": "7b7034c3",
   "metadata": {},
   "source": [
    "## DESCRIPTION:\n",
    "Write a function named setAlarm which receives two parameters. The first parameter, employed, is true whenever you are employed and the second parameter, vacation is true whenever you are on vacation.\n",
    "\n",
    "The function should return true if you are employed and not on vacation (because these are the circumstances under which you need to set an alarm). It should return false otherwise. Examples:\n",
    "```\n",
    "setAlarm(true, true) -> false\n",
    "setAlarm(false, true) -> false\n",
    "setAlarm(false, false) -> false\n",
    "setAlarm(true, false) -> true\n",
    "```\n",
    "\n",
    "## Solution:\n",
    "```python\n",
    "def set_alarm(employed, vacation):\n",
    "    return True if employed is True and vacation!=True else False\n",
    "```"
   ]
  }
 ],
 "metadata": {
  "kernelspec": {
   "display_name": "Python 3 (ipykernel)",
   "language": "python",
   "name": "python3"
  },
  "language_info": {
   "codemirror_mode": {
    "name": "ipython",
    "version": 3
   },
   "file_extension": ".py",
   "mimetype": "text/x-python",
   "name": "python",
   "nbconvert_exporter": "python",
   "pygments_lexer": "ipython3",
   "version": "3.9.12"
  }
 },
 "nbformat": 4,
 "nbformat_minor": 5
}
