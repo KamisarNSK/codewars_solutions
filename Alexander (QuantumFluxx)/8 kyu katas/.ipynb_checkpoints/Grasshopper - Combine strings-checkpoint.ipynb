{
 "cells": [
  {
   "cell_type": "markdown",
   "id": "ffdb87d0",
   "metadata": {},
   "source": [
    "## DESCRIPTION:\n",
    "Combine strings function\n",
    "Create a function named (combine_names) that accepts two parameters (first and last name). The function should return the full name.\n",
    "```\n",
    "Example:\n",
    "combine_names('James', 'Stevens')\n",
    "\n",
    "returns:\n",
    "'James Stevens'\n",
    "```\n",
    "\n",
    "## Solution:\n",
    "```python\n",
    "def combine_names(first, second):\n",
    "    return '{} {}'.format(first, second)\n",
    "```"
   ]
  }
 ],
 "metadata": {
  "kernelspec": {
   "display_name": "Python 3 (ipykernel)",
   "language": "python",
   "name": "python3"
  },
  "language_info": {
   "codemirror_mode": {
    "name": "ipython",
    "version": 3
   },
   "file_extension": ".py",
   "mimetype": "text/x-python",
   "name": "python",
   "nbconvert_exporter": "python",
   "pygments_lexer": "ipython3",
   "version": "3.9.12"
  }
 },
 "nbformat": 4,
 "nbformat_minor": 5
}
