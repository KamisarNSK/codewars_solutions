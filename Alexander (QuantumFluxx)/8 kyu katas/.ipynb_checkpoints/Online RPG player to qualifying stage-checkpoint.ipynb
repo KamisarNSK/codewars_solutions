{
 "cells": [
  {
   "cell_type": "markdown",
   "id": "8d5eee16",
   "metadata": {},
   "source": [
    "## DESCRIPTION:\n",
    "Let's imagine we have a popular online RPG. A player begins with a score of 0 in class E5. A1 is the highest level a player can achieve.\n",
    "\n",
    "Now let's say the players wants to rank up to class E4. To do so the player needs to achieve at least 100 points to enter the qualifying stage.\n",
    "\n",
    "Write a script that will check to see if the player has achieved at least 100 points in his class. If so, he enters the qualifying stage.\n",
    "\n",
    "In that case, we return, \"Well done! You have advanced to the qualifying stage. Win 2 out of your next 3 games to rank up.\".\n",
    "\n",
    "Otherwise return, False/false (according to the language in use).\n",
    "\n",
    "NOTE\n",
    ": Remember, in C# you have to cast your output value to Object type!\n",
    "\n",
    "## Solution:\n",
    "```python\n",
    "def playerRankUp(pts):\n",
    "    msg = \"Well done! You have advanced to the qualifying stage. Win 2 out of your next 3 games to rank up.\" \n",
    "    return msg if pts >=100 else False\n",
    "```"
   ]
  }
 ],
 "metadata": {
  "kernelspec": {
   "display_name": "Python 3 (ipykernel)",
   "language": "python",
   "name": "python3"
  },
  "language_info": {
   "codemirror_mode": {
    "name": "ipython",
    "version": 3
   },
   "file_extension": ".py",
   "mimetype": "text/x-python",
   "name": "python",
   "nbconvert_exporter": "python",
   "pygments_lexer": "ipython3",
   "version": "3.9.12"
  }
 },
 "nbformat": 4,
 "nbformat_minor": 5
}
