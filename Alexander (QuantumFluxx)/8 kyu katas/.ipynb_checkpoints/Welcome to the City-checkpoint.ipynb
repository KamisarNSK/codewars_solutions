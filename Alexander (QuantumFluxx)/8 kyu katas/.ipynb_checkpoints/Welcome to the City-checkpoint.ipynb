{
 "cells": [
  {
   "cell_type": "markdown",
   "id": "73563abe",
   "metadata": {},
   "source": [
    "## DESCRIPTION:\n",
    "Create a method sayHello/say_hello/SayHello that takes as input a name, city, and state to welcome a person. Note that name will be an array consisting of one or more values that should be joined together with one space between each, and the length of the name array in test cases will vary.\n",
    "\n",
    "Example:\n",
    "```\n",
    "say_hello(['John', 'Smith'], 'Phoenix', 'Arizona')\n",
    "```\n",
    "This example will return the string Hello, John Smith! Welcome to Phoenix, Arizona!\n",
    "\n",
    "## Solution:\n",
    "```python\n",
    "def say_hello(name, city, state):\n",
    "    return \"Hello, {}! Welcome to {}, {}!\".format(\" \".join(name), city, state)\n",
    "```"
   ]
  }
 ],
 "metadata": {
  "kernelspec": {
   "display_name": "Python 3 (ipykernel)",
   "language": "python",
   "name": "python3"
  },
  "language_info": {
   "codemirror_mode": {
    "name": "ipython",
    "version": 3
   },
   "file_extension": ".py",
   "mimetype": "text/x-python",
   "name": "python",
   "nbconvert_exporter": "python",
   "pygments_lexer": "ipython3",
   "version": "3.9.12"
  }
 },
 "nbformat": 4,
 "nbformat_minor": 5
}
