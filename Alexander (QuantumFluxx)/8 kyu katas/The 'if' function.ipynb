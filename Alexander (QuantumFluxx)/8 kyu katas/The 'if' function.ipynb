{
 "cells": [
  {
   "cell_type": "markdown",
   "id": "ebf69b67",
   "metadata": {},
   "source": [
    "## DESCRIPTION:\n",
    "Create a function called _if which takes 3 arguments: a boolean value bool and 2 functions (which do not take any parameters): func1 and func2\n",
    "\n",
    "When bool is truth-ish, func1 should be called, otherwise call the func2.\n",
    "```python\n",
    "Example:\n",
    "def truthy(): \n",
    "    print(\"True\")\n",
    "  \n",
    "def falsey(): \n",
    "    print(\"False\")\n",
    "  \n",
    "_if(True, truthy, falsey)\n",
    "# prints 'True' to the console\n",
    "```\n",
    "\n",
    "## Solution:\n",
    "```python\n",
    "def _if(bool, func1, func2):\n",
    "    func1() if bool else func2()\n",
    "```"
   ]
  }
 ],
 "metadata": {
  "kernelspec": {
   "display_name": "Python 3 (ipykernel)",
   "language": "python",
   "name": "python3"
  },
  "language_info": {
   "codemirror_mode": {
    "name": "ipython",
    "version": 3
   },
   "file_extension": ".py",
   "mimetype": "text/x-python",
   "name": "python",
   "nbconvert_exporter": "python",
   "pygments_lexer": "ipython3",
   "version": "3.9.12"
  }
 },
 "nbformat": 4,
 "nbformat_minor": 5
}
