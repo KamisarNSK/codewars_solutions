{
 "cells": [
  {
   "cell_type": "markdown",
   "id": "28d4d261",
   "metadata": {},
   "source": [
    "## DESCRIPTION:\n",
    "Kata Task\n",
    "I have a cat and a dog.\n",
    "\n",
    "I got them at the same time as kitten/puppy. That was humanYears years ago.\n",
    "\n",
    "Return their respective ages now as [humanYears,catYears,dogYears]\n",
    "\n",
    "NOTES:\n",
    "\n",
    "humanYears >= 1\n",
    "\n",
    "humanYears are whole numbers only\n",
    "\n",
    "Cat Years\n",
    "* 15 cat years for first year\n",
    "* +9 cat years for second year\n",
    "* +4 cat years for each year after that\n",
    "\n",
    "Dog Years\n",
    "* 15 dog years for first year\n",
    "* +9 dog years for second year\n",
    "* +5 dog years for each year after that\n",
    "\n",
    "\n",
    "## Solution:\n",
    "```python\n",
    "def human_years_cat_years_dog_years(n):\n",
    "    cat_years = 15 + (9 * (n > 1)) + (4 * (n - 2) * (n > 2))\n",
    "    dog_years = 15 + (9 * (n > 1)) + (5 * (n - 2) * (n > 2))\n",
    "    return [n, cat_years, dog_years]\n",
    "```"
   ]
  }
 ],
 "metadata": {
  "kernelspec": {
   "display_name": "Python 3 (ipykernel)",
   "language": "python",
   "name": "python3"
  },
  "language_info": {
   "codemirror_mode": {
    "name": "ipython",
    "version": 3
   },
   "file_extension": ".py",
   "mimetype": "text/x-python",
   "name": "python",
   "nbconvert_exporter": "python",
   "pygments_lexer": "ipython3",
   "version": "3.9.12"
  }
 },
 "nbformat": 4,
 "nbformat_minor": 5
}
